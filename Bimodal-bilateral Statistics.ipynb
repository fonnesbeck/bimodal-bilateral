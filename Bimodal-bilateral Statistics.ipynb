{
 "metadata": {
  "name": "",
  "signature": "sha256:dbe9e6e7a296be5e25f9bb6f94f369ab790d58467638f2b100762efb2ad2a237"
 },
 "nbformat": 3,
 "nbformat_minor": 0,
 "worksheets": [
  {
   "cells": [
    {
     "cell_type": "code",
     "collapsed": true,
     "input": [
      "# Import modules and set options\n",
      "%matplotlib inline\n",
      "import matplotlib.pyplot as plt\n",
      "import pandas as pd\n",
      "import numpy as np\n",
      "pd.set_option('display.notebook_repr_html', False)\n",
      "\n",
      "pd.set_option('display.max_columns', 20)\n",
      "pd.set_option('display.max_rows', 100)"
     ],
     "language": "python",
     "metadata": {},
     "outputs": [],
     "prompt_number": 1
    },
    {
     "cell_type": "markdown",
     "metadata": {},
     "source": [
      "Connect to database to import data for the three test domains and demographic information:"
     ]
    },
    {
     "cell_type": "code",
     "collapsed": false,
     "input": [
      "from redcap import Project\n",
      "api_url = 'https://redcap.vanderbilt.edu/api/'\n",
      "api_key = open(\"/Users/fonnescj/Dropbox/LSL-DR/api_token.txt\").read()\n",
      "\n",
      "lsl_dr_project = Project(api_url, api_key)"
     ],
     "language": "python",
     "metadata": {},
     "outputs": [],
     "prompt_number": 2
    },
    {
     "cell_type": "code",
     "collapsed": false,
     "input": [
      "metadata = lsl_dr_project.export_metadata()"
     ],
     "language": "python",
     "metadata": {},
     "outputs": [],
     "prompt_number": 3
    },
    {
     "cell_type": "code",
     "collapsed": false,
     "input": [
      "# metadata = lsl_dr_project.export_metadata(fields=['etiology'])"
     ],
     "language": "python",
     "metadata": {},
     "outputs": [],
     "prompt_number": 4
    },
    {
     "cell_type": "code",
     "collapsed": false,
     "input": [
      "# for i,j in zip(lsl_dr_project.field_names, \n",
      "#                lsl_dr_project.field_labels):\n",
      "#     print('{0}: \\t{1}'.format(i,j))"
     ],
     "language": "python",
     "metadata": {},
     "outputs": [],
     "prompt_number": 5
    },
    {
     "cell_type": "markdown",
     "metadata": {},
     "source": [
      "Import each database from REDCap:"
     ]
    },
    {
     "cell_type": "code",
     "collapsed": false,
     "input": [
      "articulation_fields = ['study_id','redcap_event_name', 'age_test_aaps','aaps_ss','age_test_gf2','gf2_ss']\n",
      "articulation = lsl_dr_project.export_records(fields=articulation_fields, format='df', df_kwargs={'index_col':None})"
     ],
     "language": "python",
     "metadata": {},
     "outputs": [],
     "prompt_number": 6
    },
    {
     "cell_type": "code",
     "collapsed": false,
     "input": [
      "expressive_fields = ['study_id','redcap_event_name','age_test_eowpvt','eowpvt_ss','age_test_evt','evt_ss']\n",
      "expressive = lsl_dr_project.export_records(fields=expressive_fields, format='df', df_kwargs={'index_col':None})"
     ],
     "language": "python",
     "metadata": {},
     "outputs": [],
     "prompt_number": 7
    },
    {
     "cell_type": "code",
     "collapsed": false,
     "input": [
      "receptive_fields = ['study_id','redcap_event_name','age_test_ppvt','ppvt_ss','age_test_rowpvt','rowpvt_ss']\n",
      "receptive = lsl_dr_project.export_records(fields=receptive_fields, format='df', df_kwargs={'index_col':None})"
     ],
     "language": "python",
     "metadata": {},
     "outputs": []
    },
    {
     "cell_type": "code",
     "collapsed": false,
     "input": [
      "language_fields = ['study_id','redcap_event_name','pls_ac_ss','pls_ec_ss','pls_choice','age_test_pls',\n",
      "                   'owls_lc_ss','owls_oe_ss','age_test_owls',\n",
      "                   'celfp_rl_ss','celfp_el_ss','age_test_celp',\n",
      "                   'celf_elss','celf_rlss','age_test_celf']\n",
      "language_raw = lsl_dr_project.export_records(fields=language_fields, format='df', df_kwargs={'index_col':None,\n",
      "                                                                                             'na_values':[999, 9999]})"
     ],
     "language": "python",
     "metadata": {},
     "outputs": []
    },
    {
     "cell_type": "code",
     "collapsed": false,
     "input": [
      "demographic_fields = ['study_id','redcap_event_name','redcap_data_access_group',\n",
      "'hl','prim_lang','mother_ed','father_ed','premature_age',\n",
      "'onset_1','age_int','age','age_amp', 'age_ci', 'age_ci_2', 'degree_hl_ad','type_hl_ad','tech_ad','degree_hl_as',\n",
      "'type_hl_as','tech_as','etiology','etiology_2', 'sib', 'gender', 'time', 'ad_250', 'as_250', 'ae',\n",
      "'ad_500', 'as_500', 'fam_age', 'family_inv', 'demo_ses', 'school_lunch', 'medicaid', 'hearing_changes']\n",
      "demographic_raw = lsl_dr_project.export_records(fields=demographic_fields, format='df', \n",
      "                                            df_kwargs={'index_col':None, \n",
      "                                                       'na_values':[999]})"
     ],
     "language": "python",
     "metadata": {},
     "outputs": []
    },
    {
     "cell_type": "code",
     "collapsed": false,
     "input": [
      "demographic_raw[['fam_age', 'family_inv', 'demo_ses', 'school_lunch', 'medicaid']].max()"
     ],
     "language": "python",
     "metadata": {},
     "outputs": []
    },
    {
     "cell_type": "markdown",
     "metadata": {},
     "source": [
      "Demographic data with missing values"
     ]
    },
    {
     "cell_type": "code",
     "collapsed": false,
     "input": [
      "demographic_raw.head()"
     ],
     "language": "python",
     "metadata": {},
     "outputs": []
    },
    {
     "cell_type": "markdown",
     "metadata": {},
     "source": [
      "Fill missing values forward from previous observation (by `study_id`)"
     ]
    },
    {
     "cell_type": "code",
     "collapsed": false,
     "input": [
      "demographic = demographic_raw.sort(columns='redcap_event_name').groupby('study_id').transform(\n",
      "                                    lambda recs: recs.fillna(method='ffill')).reset_index()\n",
      "demographic[\"study_id\"] = demographic_raw.study_id"
     ],
     "language": "python",
     "metadata": {},
     "outputs": []
    },
    {
     "cell_type": "markdown",
     "metadata": {},
     "source": [
      "Demographic data without missing values"
     ]
    },
    {
     "cell_type": "code",
     "collapsed": false,
     "input": [
      "demographic.head()"
     ],
     "language": "python",
     "metadata": {},
     "outputs": []
    },
    {
     "cell_type": "code",
     "collapsed": false,
     "input": [
      "demographic.drop_duplicates('study_id').as_250.hist()"
     ],
     "language": "python",
     "metadata": {},
     "outputs": []
    },
    {
     "cell_type": "markdown",
     "metadata": {},
     "source": [
      "## Cleaning languge dataset\n",
      "\n",
      "5 language measures:\n",
      "\n",
      "- 3 versions of CELF\n",
      "- PLS\n",
      "    - pls_ac_rs: \tPLS: Auditory Comprehension Raw Score\n",
      "    - pls_ac_ss: \tPLS: Auditory Comprehension Standard Score\n",
      "    - pls_ec_rs: \tPLS: Expressive Communication Raw Score\n",
      "    - pls_ec_ss: \tPLS: Expressive Communication Standard Score\n",
      "    - pls_tl_rs: \tPLS: Total Language Score Standard Score Total\n",
      "    - pls_tl_ss: \tPLS: Total Language Score Standard Score\n",
      "- OWLS\n",
      "    - age_test_owls: \tAge at time of testing (OWLS)\n",
      "    - owls_lc_rs: \tOWLS: Listening Comprehension Raw Score\n",
      "    - owls_lc_ss: \tOWLS: Listening Comprehension Standard Score\n",
      "    - owls_oe_rs: \tOWLS: Oral Expression Raw Score\n",
      "    - owls_oe_ss: \tOWLS: Oral Expression Standard Score\n",
      "    - owls_oc_sss: \tOWLS: Oral Composite Sum of Listening Comprehension and Oral Expression Standard Scores\n",
      "    - owls_oc_ss: \tOWLS: Oral Composite Standard Score\n",
      "    - owls_wes_trs: \tOWLS: Written Expression Scale Total Raw Score\n",
      "    - owls_wes_as: \tOWLS: Written Expression Scale Ability Score\n",
      "    - owls_wes_ss: \tOWLS: Written Expression Scale Standard Score\n",
      "    - owsl_lc: \tOWLS: Written Expression Scale Language Composite (Sum of written expression age-based standard score, listening comprehension standard score and oral expression standard score)\n",
      "    - owls_lcss: \tOWLS: Language Composite Standard Score"
     ]
    },
    {
     "cell_type": "code",
     "collapsed": false,
     "input": [
      "# Test type\n",
      "language_raw[\"test_name\"] = None\n",
      "language_raw[\"test_type\"] = None\n",
      "language_raw[\"score\"] = None\n",
      "CELP = language_raw.age_test_celp.notnull()\n",
      "CELF = language_raw.age_test_celf.notnull()\n",
      "PLS = language_raw.age_test_pls.notnull()\n",
      "OWLS = language_raw.age_test_owls.notnull()\n",
      "\n",
      "language_raw['age_test'] = None\n",
      "language_raw['age_test'][CELP] = language_raw.age_test_celp\n",
      "language_raw['age_test'][CELF] = language_raw.age_test_celf\n",
      "language_raw['age_test'][PLS] = language_raw.age_test_pls\n",
      "language_raw['age_test'][OWLS] = language_raw.age_test_owls\n",
      "\n",
      "language1 = language_raw[CELP | CELF | PLS | OWLS]\n",
      "language2 = language1.copy()\n",
      "\n",
      "language1[\"test_type\"] = \"receptive\"\n",
      "\n",
      "language1[\"test_name\"][CELP] = \"CELF-P2\"\n",
      "language1[\"test_name\"][CELF] = \"CELF-4\"\n",
      "language1[\"test_name\"][PLS] = \"PLS\"\n",
      "language1[\"test_name\"][OWLS] = \"OWLS\"\n",
      "\n",
      "language1[\"score\"][CELP] = language1.celfp_rl_ss\n",
      "language1[\"score\"][CELF] = language1.celf_rlss\n",
      "language1[\"score\"][PLS] = language1.pls_ac_ss\n",
      "language1[\"score\"][OWLS] = language1.owls_lc_ss\n",
      "\n",
      "\n",
      "language2[\"test_type\"] = \"expressive\"\n",
      "\n",
      "language2[\"test_name\"][CELP] = \"CELF-P2\"\n",
      "language2[\"test_name\"][CELF] = \"CELF-4\"\n",
      "language2[\"test_name\"][PLS] = \"PLS\"\n",
      "language2[\"test_name\"][OWLS] = \"OWLS\"\n",
      "\n",
      "language2[\"score\"][CELP] = language1.celfp_el_ss\n",
      "language2[\"score\"][CELF] = language1.celf_elss\n",
      "language2[\"score\"][PLS] = language1.pls_ec_ss\n",
      "language2[\"score\"][OWLS] = language1.owls_oe_ss\n",
      "\n",
      "language = pd.concat([language1, language2])\n",
      "language = language[language.score.notnull()]\n",
      "print pd.crosstab(language.test_name, language.test_type)\n",
      "print(\"There are {0} null values for score\".format(sum(language[\"score\"].isnull())))"
     ],
     "language": "python",
     "metadata": {},
     "outputs": []
    },
    {
     "cell_type": "markdown",
     "metadata": {},
     "source": [
      "A `school` variable was added, which is the first four columns of the `study_id`:"
     ]
    },
    {
     "cell_type": "code",
     "collapsed": false,
     "input": [
      "language[\"school\"] = language.study_id.str.slice(0,4)"
     ],
     "language": "python",
     "metadata": {},
     "outputs": []
    },
    {
     "cell_type": "code",
     "collapsed": false,
     "input": [
      "language = language[[\"study_id\", \"redcap_event_name\", \"score\", \"test_type\", \"test_name\", \"school\", \"age_test\"]]\n",
      "language[\"domain\"] = \"Language\"\n",
      "language.head()"
     ],
     "language": "python",
     "metadata": {},
     "outputs": []
    },
    {
     "cell_type": "markdown",
     "metadata": {},
     "source": [
      "## Cleaning articulation dataset\n",
      "\n",
      "We converted the articulation dataset into a \"long\" format:"
     ]
    },
    {
     "cell_type": "code",
     "collapsed": false,
     "input": [
      "# Test type\n",
      "articulation[\"test_type\"] = None\n",
      "ARIZ = articulation.aaps_ss.notnull()\n",
      "GF = articulation.gf2_ss.notnull()\n",
      "articulation = articulation[ARIZ | GF]\n",
      "articulation[\"test_type\"][ARIZ & GF] = \"Arizonia and Goldman\"\n",
      "articulation[\"test_type\"][ARIZ & GF-True] = \"Arizonia\"\n",
      "articulation[\"test_type\"][ARIZ-True & GF] = \"Goldman\"\n",
      "\n",
      "print articulation.test_type.value_counts()\n",
      "print(\"There are {0} null values for test_type\".format(sum(articulation[\"test_type\"].isnull())))\n",
      "\n",
      "# Test score (Arizonia if both)\n",
      "articulation[\"score\"] = articulation.aaps_ss\n",
      "articulation[\"score\"][ARIZ-True & GF] = articulation.gf2_ss[ARIZ-True & GF]"
     ],
     "language": "python",
     "metadata": {},
     "outputs": []
    },
    {
     "cell_type": "markdown",
     "metadata": {},
     "source": [
      "A `school` variable was added, which is the first four columns of the `study_id`:"
     ]
    },
    {
     "cell_type": "code",
     "collapsed": false,
     "input": [
      "articulation[\"school\"] = articulation.study_id.str.slice(0,4)"
     ],
     "language": "python",
     "metadata": {},
     "outputs": []
    },
    {
     "cell_type": "markdown",
     "metadata": {},
     "source": [
      "The age was taken to be the Arizonia age if there are both test types:"
     ]
    },
    {
     "cell_type": "code",
     "collapsed": false,
     "input": [
      "articulation[\"age_test\"] = articulation.age_test_aaps\n",
      "articulation.age_test[articulation.age_test.isnull()] = articulation.age_test_gf2[articulation.age_test.isnull()]\n",
      "print articulation.age_test.describe()"
     ],
     "language": "python",
     "metadata": {},
     "outputs": []
    },
    {
     "cell_type": "markdown",
     "metadata": {},
     "source": [
      "Finally, we dropped unwanted columns and added a domain identification column for merging:"
     ]
    },
    {
     "cell_type": "code",
     "collapsed": false,
     "input": [
      "articulation.columns"
     ],
     "language": "python",
     "metadata": {},
     "outputs": []
    },
    {
     "cell_type": "code",
     "collapsed": false,
     "input": [
      "articulation = articulation.drop([\"age_test_aaps\", \"age_test_gf2\", \"aaps_ss\", \"gf2_ss\"], axis=1)\n",
      "articulation[\"domain\"] = \"Articulation\"\n",
      "articulation.head()"
     ],
     "language": "python",
     "metadata": {},
     "outputs": []
    },
    {
     "cell_type": "markdown",
     "metadata": {},
     "source": [
      "## Cleaning demographic dataset\n",
      "\n",
      "We excluded unwanted columns and rows for which age, gender or race were missing:"
     ]
    },
    {
     "cell_type": "code",
     "collapsed": false,
     "input": [
      "# Retain only subset of columns\n",
      "#demographic = demographic[demographic.gender.notnull()]\n",
      "demographic = demographic.rename(columns={'gender':'male'})"
     ],
     "language": "python",
     "metadata": {},
     "outputs": []
    },
    {
     "cell_type": "markdown",
     "metadata": {},
     "source": [
      "Due to sample size considerations, we reduced the non-English primary language variable to English (0) and non-English (1):"
     ]
    },
    {
     "cell_type": "code",
     "collapsed": false,
     "input": [
      "demographic[\"non_english\"] = None\n",
      "demographic.non_english[demographic.prim_lang.notnull()] = demographic.prim_lang[demographic.prim_lang.notnull()]>0\n",
      "print demographic.non_english.value_counts()\n",
      "print(\"There are {0} null values for non_english\".format(sum(demographic.non_english.isnull())))"
     ],
     "language": "python",
     "metadata": {},
     "outputs": []
    },
    {
     "cell_type": "markdown",
     "metadata": {},
     "source": [
      "Mother's education (`mother_ed`) and father's education (`father_ed`) were both recoded to: \n",
      "\n",
      "* 0=no high school diploma\n",
      "* 1=high school\n",
      "* 2=undergraduate\n",
      "* 3=graduate\n",
      "\n",
      "Category 6 (unknown) was recoded as missing."
     ]
    },
    {
     "cell_type": "code",
     "collapsed": false,
     "input": [
      "demographic = demographic.rename(columns={\"mother_ed\":\"_mother_ed\"})\n",
      "demographic[\"mother_ed\"] = demographic._mother_ed.copy()\n",
      "demographic.mother_ed[demographic._mother_ed==1] = 0\n",
      "demographic.mother_ed[(demographic._mother_ed==2) | (demographic.mother_ed==3)] = 1\n",
      "demographic.mother_ed[demographic._mother_ed==4] = 2\n",
      "demographic.mother_ed[demographic._mother_ed==5] = 3\n",
      "demographic.mother_ed[demographic._mother_ed==6] = None\n",
      "print(\"_mother_ed:\")\n",
      "print demographic._mother_ed.value_counts()\n",
      "print(\"mother_ed:\")\n",
      "print demographic.mother_ed.value_counts()\n",
      "print(\"\\nThere are {0} null values for mother_ed\".format(sum(demographic.mother_ed.isnull())))"
     ],
     "language": "python",
     "metadata": {},
     "outputs": []
    },
    {
     "cell_type": "code",
     "collapsed": false,
     "input": [
      "demographic.mother_ed"
     ],
     "language": "python",
     "metadata": {},
     "outputs": []
    },
    {
     "cell_type": "markdown",
     "metadata": {},
     "source": [
      "Secondary diagnosis"
     ]
    },
    {
     "cell_type": "code",
     "collapsed": false,
     "input": [
      "demographic['secondary_diagnosis'] = demographic.etiology==0"
     ],
     "language": "python",
     "metadata": {},
     "outputs": []
    },
    {
     "cell_type": "code",
     "collapsed": false,
     "input": [
      "demographic.secondary_diagnosis.value_counts()"
     ],
     "language": "python",
     "metadata": {},
     "outputs": []
    },
    {
     "cell_type": "code",
     "collapsed": false,
     "input": [
      "demographic.secondary_diagnosis.mean()"
     ],
     "language": "python",
     "metadata": {},
     "outputs": []
    },
    {
     "cell_type": "markdown",
     "metadata": {},
     "source": [
      "Premature status was recoded to True (premature) and False (full-term). Here, premature indicates <36 weeks."
     ]
    },
    {
     "cell_type": "code",
     "collapsed": false,
     "input": [
      "demographic['premature_weeks'] = demographic.premature_age.copy()\n",
      "demographic.premature_weeks[demographic.premature_age==9] = None\n",
      "demographic.premature_weeks = abs(demographic.premature_weeks-8)*2\n",
      "print(\"There are {0} null values for premature_weeks\".format(sum(demographic.premature_weeks.isnull())))"
     ],
     "language": "python",
     "metadata": {},
     "outputs": []
    },
    {
     "cell_type": "code",
     "collapsed": false,
     "input": [
      "demographic.premature_weeks.value_counts()"
     ],
     "language": "python",
     "metadata": {},
     "outputs": []
    },
    {
     "cell_type": "markdown",
     "metadata": {},
     "source": [
      "Recode impant technology variables for each ear to one of four categories (None, Baha, Hearing aid, Cochlear implant):"
     ]
    },
    {
     "cell_type": "code",
     "collapsed": false,
     "input": [
      "tech_cats = [\"None\", \"Baha\", \"Hearing aid\", \"Cochlear\"]\n",
      "\n",
      "demographic[\"tech_right\"] = demographic.tech_ad.copy()\n",
      "demographic.tech_right[demographic.tech_right==6] = 0\n",
      "demographic.tech_right[demographic.tech_right==4] = 1\n",
      "demographic.tech_right[demographic.tech_right==5] = 1\n",
      "demographic.tech_right[demographic.tech_right==3] = 2\n",
      "demographic.tech_right[demographic.tech_right==7] = 3\n",
      "demographic.tech_right = np.abs(demographic.tech_right - 3)\n",
      "\n",
      "demographic[\"tech_left\"] = demographic.tech_as.copy()\n",
      "demographic.tech_left[demographic.tech_left==6] = 0\n",
      "demographic.tech_left[demographic.tech_left==4] = 1\n",
      "demographic.tech_left[demographic.tech_left==5] = 1\n",
      "demographic.tech_left[demographic.tech_left==3] = 2\n",
      "demographic.tech_left[demographic.tech_left==7] = 3\n",
      "demographic.tech_left = np.abs(demographic.tech_left - 3)"
     ],
     "language": "python",
     "metadata": {},
     "outputs": []
    },
    {
     "cell_type": "markdown",
     "metadata": {},
     "source": [
      "Substitute valid missing values for hearing loss:"
     ]
    },
    {
     "cell_type": "code",
     "collapsed": false,
     "input": [
      "demographic.type_hl_ad[demographic.type_hl_ad==5] = None\n",
      "demographic.type_hl_as[demographic.type_hl_as==5] = None"
     ],
     "language": "python",
     "metadata": {},
     "outputs": []
    },
    {
     "cell_type": "markdown",
     "metadata": {},
     "source": [
      "Create `degree_hl`, which is the maximum level of hearing loss in either ear:"
     ]
    },
    {
     "cell_type": "code",
     "collapsed": false,
     "input": [
      "demographic[\"degree_hl\"] = np.maximum(demographic.degree_hl_ad, demographic.degree_hl_as)"
     ],
     "language": "python",
     "metadata": {},
     "outputs": []
    },
    {
     "cell_type": "markdown",
     "metadata": {},
     "source": [
      "Create compound indicator variable for each technology (Baha, Hearing aid, Chochlear implant): \n",
      "\n",
      "* 0=none\n",
      "* 1=one ear\n",
      "* 2=both ears."
     ]
    },
    {
     "cell_type": "code",
     "collapsed": false,
     "input": [
      "demographic[\"baha\"] = 0\n",
      "demographic.baha = demographic.baha.astype(object)\n",
      "demographic.baha[(demographic.tech_right==1) | (demographic.tech_left==1)] = 1\n",
      "demographic.baha[(demographic.tech_right==1) & (demographic.tech_left==1)] = 2\n",
      "demographic.baha[(demographic.tech_right.isnull()) & (demographic.tech_left.isnull())] = None\n",
      "print(\"baha:\")\n",
      "print demographic.drop_duplicates(cols='study_id').baha.value_counts()\n",
      "print(\"There are {0} null values for baha\".format(sum(demographic.baha.isnull())))\n",
      "\n",
      "demographic[\"hearing_aid\"] = 0\n",
      "demographic.hearing_aid = demographic.hearing_aid.astype(object)\n",
      "demographic.hearing_aid[(demographic.tech_right==2) | (demographic.tech_left==2)] = 1\n",
      "demographic.hearing_aid[(demographic.tech_right==2) & (demographic.tech_left==2)] = 2\n",
      "demographic.hearing_aid[(demographic.tech_right.isnull()) & (demographic.tech_right.isnull())] = None\n",
      "print(\"\\nhearing_aid:\")\n",
      "print demographic.drop_duplicates(cols='study_id').hearing_aid.value_counts()\n",
      "print(\"There are {0} null values for hearing_aid\".format(sum(demographic.hearing_aid.isnull())))\n",
      "\n",
      "demographic[\"cochlear\"] = 0\n",
      "demographic.cochlear = demographic.cochlear.astype(object)\n",
      "demographic.cochlear[(demographic.tech_right==3) | (demographic.tech_left==3)] = 1\n",
      "demographic.cochlear[(demographic.tech_right==3) & (demographic.tech_left==3)] = 2\n",
      "demographic.cochlear[(demographic.tech_right.isnull()) & (demographic.tech_left.isnull())] = None\n",
      "print(\"\\ncochlear:\")\n",
      "print demographic.drop_duplicates(cols='study_id').cochlear.value_counts()\n",
      "print(\"There are {0} null values for cochlear\".format(sum(demographic.cochlear.isnull())))\n",
      "print len(demographic)"
     ],
     "language": "python",
     "metadata": {},
     "outputs": []
    },
    {
     "cell_type": "markdown",
     "metadata": {},
     "source": [
      "Identify bilateral and bimodal individuals:"
     ]
    },
    {
     "cell_type": "code",
     "collapsed": false,
     "input": [
      "demographic[\"bilateral\"] = demographic.cochlear==2\n",
      "demographic[\"bimodal\"] = (demographic.cochlear==1) & (demographic.hearing_aid==1)"
     ],
     "language": "python",
     "metadata": {},
     "outputs": []
    },
    {
     "cell_type": "code",
     "collapsed": false,
     "input": [
      "demographic.bilateral.sum(), demographic.bimodal.sum()"
     ],
     "language": "python",
     "metadata": {},
     "outputs": []
    },
    {
     "cell_type": "markdown",
     "metadata": {},
     "source": [
      "Create variable that identifies bilateral (0), bilateral HA left (1), bilateral HA right (2)"
     ]
    },
    {
     "cell_type": "code",
     "collapsed": false,
     "input": [
      "demographic['tech'] = 0\n",
      "demographic.tech[(demographic.bimodal) & (demographic.tech_left==2)] = 1\n",
      "demographic.tech[(demographic.bimodal) & (demographic.tech_right==2)] = 2\n",
      "print(\"There are {0} null values for tech\".format(sum(demographic.tech.isnull())))"
     ],
     "language": "python",
     "metadata": {},
     "outputs": []
    },
    {
     "cell_type": "markdown",
     "metadata": {},
     "source": [
      "Filter out non-bilateral/bimodal individuals:"
     ]
    },
    {
     "cell_type": "code",
     "collapsed": false,
     "input": [
      "bimodal_bilateral = demographic[demographic.bilateral | demographic.bimodal]"
     ],
     "language": "python",
     "metadata": {},
     "outputs": []
    },
    {
     "cell_type": "code",
     "collapsed": false,
     "input": [
      "bimodal_bilateral['type'] = np.where(bimodal_bilateral.bilateral, 'bilateral', 'bimodal')"
     ],
     "language": "python",
     "metadata": {},
     "outputs": []
    },
    {
     "cell_type": "markdown",
     "metadata": {},
     "source": [
      "## Cleaning expressive vocabulary dataset\n",
      "\n",
      "We converted the expressive vocabulary dataset to \"long\" format:"
     ]
    },
    {
     "cell_type": "code",
     "collapsed": false,
     "input": [
      "# Test type\n",
      "expressive[\"test_type\"] = None\n",
      "EOWPVT = expressive.eowpvt_ss.notnull()\n",
      "EVT = expressive.evt_ss.notnull()\n",
      "expressive = expressive[EOWPVT | EVT]\n",
      "expressive[\"test_type\"][EOWPVT & EVT] = \"EOWPVT and EVT\"\n",
      "expressive[\"test_type\"][EOWPVT & (EVT-True)] = \"EOWPVT\"\n",
      "expressive[\"test_type\"][(EOWPVT-True) & EVT] = \"EVT\"\n",
      "print(\"There are {0} null values for test_type\".format(sum(expressive[\"test_type\"].isnull())))\n",
      "\n",
      "expressive[\"score\"] = expressive.eowpvt_ss\n",
      "expressive[\"score\"][EOWPVT-True & EVT] = expressive.evt_ss[(EOWPVT-True) & EVT]"
     ],
     "language": "python",
     "metadata": {},
     "outputs": []
    },
    {
     "cell_type": "code",
     "collapsed": false,
     "input": [
      "expressive.test_type.value_counts()"
     ],
     "language": "python",
     "metadata": {},
     "outputs": []
    },
    {
     "cell_type": "markdown",
     "metadata": {},
     "source": [
      "A `school` variable was added, which is the first four columns of the `study_id`:"
     ]
    },
    {
     "cell_type": "code",
     "collapsed": false,
     "input": [
      "expressive[\"school\"] = expressive.study_id.str.slice(0,4)"
     ],
     "language": "python",
     "metadata": {},
     "outputs": []
    },
    {
     "cell_type": "markdown",
     "metadata": {},
     "source": [
      "The age was taken to be the EOWPVT age if there are both test types:"
     ]
    },
    {
     "cell_type": "code",
     "collapsed": false,
     "input": [
      "expressive[\"age_test\"] = expressive.age_test_eowpvt\n",
      "expressive.age_test[expressive.age_test.isnull()] = expressive.age_test_evt[expressive.age_test.isnull()]"
     ],
     "language": "python",
     "metadata": {},
     "outputs": []
    },
    {
     "cell_type": "markdown",
     "metadata": {},
     "source": [
      "Finally, we dropped unwanted columns and added a domain identification column for merging:"
     ]
    },
    {
     "cell_type": "code",
     "collapsed": false,
     "input": [
      "expressive = expressive[[\"study_id\", \"redcap_event_name\", \"score\", \"test_type\", \"school\", \"age_test\"]]\n",
      "expressive[\"domain\"] = \"Expressive Vocabulary\"\n",
      "expressive.head()"
     ],
     "language": "python",
     "metadata": {},
     "outputs": []
    },
    {
     "cell_type": "markdown",
     "metadata": {},
     "source": [
      "## Cleaning receptive vocabulary dataset"
     ]
    },
    {
     "cell_type": "markdown",
     "metadata": {},
     "source": [
      "We converted the receptive vocabulary data table to \"long\" format:"
     ]
    },
    {
     "cell_type": "code",
     "collapsed": false,
     "input": [
      "receptive.columns"
     ],
     "language": "python",
     "metadata": {},
     "outputs": []
    },
    {
     "cell_type": "code",
     "collapsed": false,
     "input": [
      "# Test type\n",
      "receptive[\"test_type\"] = None\n",
      "PPVT = receptive.ppvt_ss.notnull()\n",
      "ROWPVT = receptive.rowpvt_ss.notnull()\n",
      "receptive = receptive[PPVT | ROWPVT]\n",
      "receptive[\"test_type\"][PPVT & ROWPVT] = \"PPVT and ROWPVT\"\n",
      "receptive[\"test_type\"][PPVT & (ROWPVT-True)] = \"PPVT\"\n",
      "receptive[\"test_type\"][(PPVT-True) & ROWPVT] = \"ROWPVT\"\n",
      "print(\"There are {0} null values for test_type\".format(sum(receptive[\"test_type\"].isnull())))\n",
      "\n",
      "receptive[\"score\"] = receptive.ppvt_ss\n",
      "receptive[\"score\"][(PPVT-True) & ROWPVT] = receptive.rowpvt_ss[(PPVT-True) & ROWPVT]"
     ],
     "language": "python",
     "metadata": {},
     "outputs": []
    },
    {
     "cell_type": "markdown",
     "metadata": {},
     "source": [
      "A `school` variable was added, which is the first four columns of the `study_id`:"
     ]
    },
    {
     "cell_type": "code",
     "collapsed": false,
     "input": [
      "receptive[\"school\"] = receptive.study_id.str.slice(0,4)"
     ],
     "language": "python",
     "metadata": {},
     "outputs": []
    },
    {
     "cell_type": "markdown",
     "metadata": {},
     "source": [
      "The age was taken to be the PPVT age if there are both test types:"
     ]
    },
    {
     "cell_type": "code",
     "collapsed": false,
     "input": [
      "receptive[\"age_test\"] = receptive.age_test_ppvt\n",
      "receptive.age_test[receptive.age_test.isnull()] = receptive.age_test_rowpvt[receptive.age_test.isnull()]"
     ],
     "language": "python",
     "metadata": {},
     "outputs": []
    },
    {
     "cell_type": "code",
     "collapsed": false,
     "input": [
      "print(\"There are {0} null values for age_test\".format(sum(receptive.age_test.isnull())))"
     ],
     "language": "python",
     "metadata": {},
     "outputs": []
    },
    {
     "cell_type": "markdown",
     "metadata": {},
     "source": [
      "Finally, we dropped unwanted columns and added a domain identification column for merging:"
     ]
    },
    {
     "cell_type": "code",
     "collapsed": false,
     "input": [
      "receptive = receptive[[\"study_id\", \"redcap_event_name\", \"score\", \"test_type\", \"school\", \"age_test\"]]\n",
      "receptive[\"domain\"] = \"Receptive Vocabulary\"\n",
      "receptive.head()"
     ],
     "language": "python",
     "metadata": {},
     "outputs": []
    },
    {
     "cell_type": "markdown",
     "metadata": {},
     "source": [
      "## Merge datasets\n",
      "\n",
      "The four datasets were mereged into a single table. First, we concatenate the test scores data:"
     ]
    },
    {
     "cell_type": "code",
     "collapsed": false,
     "input": [
      "test_scores = pd.concat([articulation, expressive, receptive, language])"
     ],
     "language": "python",
     "metadata": {},
     "outputs": []
    },
    {
     "cell_type": "markdown",
     "metadata": {},
     "source": [
      "Then we perform a merge between the demographic data and the test scores data:"
     ]
    },
    {
     "cell_type": "code",
     "collapsed": false,
     "input": [
      "lsl_dr = pd.merge(bimodal_bilateral, test_scores, on=[\"study_id\", \"redcap_event_name\"])\n",
      "# lsl_dr = lsl_dr[lsl_dr.score.notnull() & lsl_dr.age.notnull() & \n",
      "#                 lsl_dr.age_test.notnull() & lsl_dr.score.notnull()]"
     ],
     "language": "python",
     "metadata": {},
     "outputs": []
    },
    {
     "cell_type": "code",
     "collapsed": false,
     "input": [
      "lsl_dr.tail()"
     ],
     "language": "python",
     "metadata": {},
     "outputs": []
    },
    {
     "cell_type": "markdown",
     "metadata": {},
     "source": [
      "Export dataset"
     ]
    },
    {
     "cell_type": "code",
     "collapsed": false,
     "input": [
      "lsl_dr.to_csv('bimodal_bilateral.csv')"
     ],
     "language": "python",
     "metadata": {},
     "outputs": []
    },
    {
     "cell_type": "markdown",
     "metadata": {},
     "source": [
      "Select just the Mama Lere subset"
     ]
    },
    {
     "cell_type": "code",
     "collapsed": false,
     "input": [
      "# lsl_dr = lsl_dr[lsl_dr.study_id.apply(lambda x: x.startswith('0412'))]"
     ],
     "language": "python",
     "metadata": {},
     "outputs": [],
     "prompt_number": 56
    },
    {
     "cell_type": "code",
     "collapsed": false,
     "input": [
      "lsl_dr.score = lsl_dr.score.astype(float)"
     ],
     "language": "python",
     "metadata": {},
     "outputs": [],
     "prompt_number": 57
    },
    {
     "cell_type": "code",
     "collapsed": false,
     "input": [
      "lsl_dr.shape"
     ],
     "language": "python",
     "metadata": {},
     "outputs": [
      {
       "metadata": {},
       "output_type": "pyout",
       "prompt_number": 58,
       "text": [
        "(8418, 56)"
       ]
      }
     ],
     "prompt_number": 58
    },
    {
     "cell_type": "code",
     "collapsed": false,
     "input": [
      "def score_summary(domain, bimodal=False):\n",
      "    subset = lsl_dr[(lsl_dr.domain==domain) & (lsl_dr.bimodal==bimodal)]\n",
      "    subset['age_test'] = (subset.age_test/12).dropna().astype(int)\n",
      "    subset.age_test[subset.age_test > 11] = 11\n",
      "    subset = subset[subset.age_test>1]\n",
      "    byage = subset.groupby('age_test')\n",
      "    n = byage.study_id.count()\n",
      "    mean = byage.score.mean()\n",
      "    sd = byage.score.std()\n",
      "    min = byage.score.min()\n",
      "    max = byage.score.max()\n",
      "    summary = pd.DataFrame({'Sample Size':n, 'Mean':mean, \n",
      "    'SD':sd, 'Min':min, 'Max':max})\n",
      "    return summary[['Sample Size','Mean','SD','Min','Max']]"
     ],
     "language": "python",
     "metadata": {},
     "outputs": [],
     "prompt_number": 59
    },
    {
     "cell_type": "code",
     "collapsed": false,
     "input": [
      "receptive_summary = pd.concat([score_summary(\"Receptive Vocabulary\", bimodal=True), \n",
      "                               score_summary(\"Receptive Vocabulary\", bimodal=False)], keys=['bimodal','bilateral'])\n",
      "receptive_summary"
     ],
     "language": "python",
     "metadata": {},
     "outputs": [
      {
       "output_type": "stream",
       "stream": "stderr",
       "text": [
        "-c:3: SettingWithCopyWarning: A value is trying to be set on a copy of a slice from a DataFrame.\n",
        "Try using .loc[row_index,col_indexer] = value instead\n"
       ]
      },
      {
       "metadata": {},
       "output_type": "pyout",
       "prompt_number": 60,
       "text": [
        "                    Sample Size       Mean         SD  Min  Max\n",
        "          age_test                                             \n",
        "bimodal   2                  17  84.470588  20.536911   47  106\n",
        "          3                  95  83.621053  17.937942   40  140\n",
        "          4                 122  84.622951  18.594555   31  132\n",
        "          5                  93  82.182796  16.506880   40  114\n",
        "          6                  62  78.322581  14.954328   40  138\n",
        "          7                  45  74.911111  14.191582   41  103\n",
        "          8                  23  69.869565  18.909604   40  104\n",
        "          9                  18  70.000000  17.686818   40   98\n",
        "          10                 20  72.950000  12.799979   50   93\n",
        "          11                 28  68.071429  17.623487   38  114\n",
        "bilateral 2                  63  90.047619  18.019191   40  129\n",
        "          3                 233  86.175966  19.860265   36  141\n",
        "          4                 304  86.503289  18.102385   20  139\n",
        "          5                 224  84.625000  16.076680   40  123\n",
        "          6                 134  82.694030  14.082052   40  118\n",
        "          7                 106  79.198113  13.843630   42  110\n",
        "          8                  69  73.362319  15.181230   20  112\n",
        "          9                  50  73.300000  20.232576   25  160\n",
        "          10                 38  72.631579  15.408704   33  108\n",
        "          11                 57  72.263158  22.482951   20  128\n",
        "\n",
        "[20 rows x 5 columns]"
       ]
      }
     ],
     "prompt_number": 60
    },
    {
     "cell_type": "code",
     "collapsed": false,
     "input": [
      "def plot_summary(summary_data, var='Sample Size', color='seagreen'):\n",
      "    fig, axes = plt.subplots(nrows=1, ncols=2)\n",
      "    var = 'Sample Size'\n",
      "    for m,mode in enumerate(['bimodal', 'bilateral']):\n",
      "        summary_data.ix[mode][var].plot(ax=axes[m], kind='bar', grid=False, color=color)\n",
      "        axes[m].set_title(mode)\n",
      "        for i,x in enumerate(summary_data.ix[mode][var]):\n",
      "            axes[m].annotate('%i' % x, (i+0.5, x+1), va=\"bottom\", ha=\"center\")"
     ],
     "language": "python",
     "metadata": {},
     "outputs": [],
     "prompt_number": 61
    },
    {
     "cell_type": "code",
     "collapsed": false,
     "input": [
      "plot_summary(receptive_summary)"
     ],
     "language": "python",
     "metadata": {},
     "outputs": [
      {
       "metadata": {},
       "output_type": "display_data",
       "png": "[encoded data removed]",
       "text": [
        "<matplotlib.figure.Figure at 0x10a3118d0>"
       ]
      }
     ],
     "prompt_number": 62
    },
    {
     "cell_type": "code",
     "collapsed": false,
     "input": [
      "expressive_summary = pd.concat([score_summary(\"Expressive Vocabulary\", bimodal=True), \n",
      "                               score_summary(\"Expressive Vocabulary\", bimodal=False)], keys=['bimodal','bilateral'])\n",
      "expressive_summary"
     ],
     "language": "python",
     "metadata": {},
     "outputs": [
      {
       "metadata": {},
       "output_type": "pyout",
       "prompt_number": 63,
       "text": [
        "                    Sample Size       Mean         SD  Min  Max\n",
        "          age_test                                             \n",
        "bimodal   2                  21  84.428571  23.116166   55  128\n",
        "          3                  86  84.569767  21.375379   50  145\n",
        "          4                 121  86.553719  22.035559   49  140\n",
        "          5                  91  83.857143  18.718720   39  119\n",
        "          6                  63  77.920635  15.960942   40  118\n",
        "          7                  45  77.622222  16.214877   38  107\n",
        "          8                  22  76.772727  19.380726   40  115\n",
        "          9                  13  73.923077  16.953178   55  113\n",
        "          10                 19  79.789474  15.138541   52  100\n",
        "          11                 30  78.766667  15.517917   58  122\n",
        "bilateral 2                  59  92.186441  25.771191   23  141\n",
        "          3                 223  87.143498  23.111306   37  145\n",
        "          4                 296  87.121622  20.397709   28  146\n",
        "          5                 224  85.794643  17.572981   40  130\n",
        "          6                 133  84.390977  15.447778   45  122\n",
        "          7                 108  81.833333  14.797385   55  130\n",
        "          8                  65  76.261538  15.789907   34  113\n",
        "          9                  46  77.478261  18.807492   36  145\n",
        "          10                 39  76.179487  12.067511   55   99\n",
        "          11                 55  79.527273  22.065437   18  140\n",
        "\n",
        "[20 rows x 5 columns]"
       ]
      }
     ],
     "prompt_number": 63
    },
    {
     "cell_type": "code",
     "collapsed": false,
     "input": [
      "plot_summary(expressive_summary)"
     ],
     "language": "python",
     "metadata": {},
     "outputs": [
      {
       "metadata": {},
       "output_type": "display_data",
       "png": "[encoded data removed]",
       "text": [
        "<matplotlib.figure.Figure at 0x10af86350>"
       ]
      }
     ],
     "prompt_number": 64
    },
    {
     "cell_type": "code",
     "collapsed": false,
     "input": [
      "articulation_summary = pd.concat([score_summary(\"Articulation\", bimodal=True), \n",
      "                               score_summary(\"Articulation\", bimodal=False)], keys=['bimodal','bilateral'])\n",
      "articulation_summary"
     ],
     "language": "python",
     "metadata": {},
     "outputs": [
      {
       "metadata": {},
       "output_type": "pyout",
       "prompt_number": 65,
       "text": [
        "                    Sample Size       Mean         SD  Min  Max\n",
        "          age_test                                             \n",
        "bimodal   2                  13  84.307692  14.173829   63  105\n",
        "          3                  74  76.837838  16.350633   42  117\n",
        "          4                  98  77.979592  21.493216   39  119\n",
        "          5                  86  79.546512  17.755633   40  114\n",
        "          6                  65  76.030769  19.995288   39  110\n",
        "          7                  43  75.023256  19.711597   39  108\n",
        "          8                  18  72.888889  21.889801   40  101\n",
        "          9                  10  72.000000  16.505891   40   89\n",
        "          10                 14  81.714286  15.895953   40  102\n",
        "          11                 21  79.142857  16.112994   40  103\n",
        "bilateral 2                  45  83.333333  14.458404   53  110\n",
        "          3                 172  78.215116  18.211724   40  120\n",
        "          4                 247  78.514170  19.405567   40  117\n",
        "          5                 199  78.834171  20.485709   39  113\n",
        "          6                 126  77.198413  21.066379   39  110\n",
        "          7                 106  77.867925  19.949496   35  107\n",
        "          8                  55  72.472727  22.456422   40  106\n",
        "          9                  36  79.194444  21.652871   40  106\n",
        "          10                 28  73.892857  20.763821   40  105\n",
        "          11                 44  76.772727  17.361898   40  105\n",
        "\n",
        "[20 rows x 5 columns]"
       ]
      }
     ],
     "prompt_number": 65
    },
    {
     "cell_type": "code",
     "collapsed": false,
     "input": [
      "plot_summary(articulation_summary)"
     ],
     "language": "python",
     "metadata": {},
     "outputs": [
      {
       "metadata": {},
       "output_type": "display_data",
       "png": "[encoded data removed]",
       "text": [
        "<matplotlib.figure.Figure at 0x109a7c510>"
       ]
      }
     ],
     "prompt_number": 66
    },
    {
     "cell_type": "code",
     "collapsed": false,
     "input": [
      "language_summary = pd.concat([score_summary(\"Language\", bimodal=True), \n",
      "                               score_summary(\"Language\", bimodal=False)], keys=['bimodal','bilateral'])\n",
      "language_summary"
     ],
     "language": "python",
     "metadata": {},
     "outputs": [
      {
       "metadata": {},
       "output_type": "pyout",
       "prompt_number": 67,
       "text": [
        "                    Sample Size       Mean         SD  Min  Max\n",
        "          age_test                                             \n",
        "bimodal   2                  90  75.488889  16.869788   51  117\n",
        "          3                 185  78.162162  17.401452   50  132\n",
        "          4                 220  78.854545  19.721734   45  133\n",
        "          5                 146  79.280822  18.209790   45  124\n",
        "          6                  82  72.817073  16.809850   45  115\n",
        "          7                  78  65.282051  16.063104   40   98\n",
        "          8                  26  58.538462  17.401680   45  115\n",
        "          9                  10  53.700000   8.499020   40   65\n",
        "          10                  6  76.333333  12.225656   58   92\n",
        "          11                 14  85.785714  21.916550   45  115\n",
        "bilateral 2                 293  81.354949  20.411611   50  150\n",
        "          3                 502  80.741036  19.935341   50  145\n",
        "          4                 541  78.609982  18.763080   48  141\n",
        "          5                 417  76.062350  17.564331   45  129\n",
        "          6                 243  71.921811  16.890938   44  115\n",
        "          7                 193  67.590674  18.329545   40  118\n",
        "          8                 107  67.869159  18.758688   40  103\n",
        "          9                  26  69.230769  23.554715   40  106\n",
        "          10                 22  71.090909  24.993159   40  110\n",
        "          11                 10  75.900000  21.630483   40  108\n",
        "\n",
        "[20 rows x 5 columns]"
       ]
      }
     ],
     "prompt_number": 67
    },
    {
     "cell_type": "code",
     "collapsed": false,
     "input": [
      "for t in language.test_type.value_counts().index:\n",
      "    lsl_dr[lsl_dr.test_type==t].groupby('bimodal').boxplot(column='score')\n",
      "    plt.gcf().suptitle(t)"
     ],
     "language": "python",
     "metadata": {},
     "outputs": [
      {
       "metadata": {},
       "output_type": "display_data",
       "png": "[encoded data removed]",
       "text": [
        "<matplotlib.figure.Figure at 0x109a49c50>"
       ]
      },
      {
       "metadata": {},
       "output_type": "display_data",
       "png": "[encoded data removed]",
       "text": [
        "<matplotlib.figure.Figure at 0x109a49e50>"
       ]
      }
     ],
     "prompt_number": 68
    },
    {
     "cell_type": "markdown",
     "metadata": {},
     "source": [
      "## Descriptive Statistics"
     ]
    },
    {
     "cell_type": "code",
     "collapsed": false,
     "input": [
      "unique_students = lsl_dr.drop_duplicates(cols='study_id')\n",
      "unique_students.head()"
     ],
     "language": "python",
     "metadata": {},
     "outputs": [
      {
       "metadata": {},
       "output_type": "pyout",
       "prompt_number": 69,
       "text": [
        "    index               redcap_event_name  hl  male  prim_lang  sib  \\\n",
        "0      15    Year 3 Complete (7/1 - 6/30)   0     1          0    0   \n",
        "5      18    Year 1 Complete (7/1 - 6/30)   0     1          0    1   \n",
        "18     58    Year 1 Complete (7/1 - 6/30)   0     0          0    2   \n",
        "22     60  Initial Assessment/Enrollment    0     1          0    0   \n",
        "29     66    Year 6 Complete (7/1 - 6/30)   0     0          0    4   \n",
        "\n",
        "    _mother_ed  father_ed  premature_age onset_1 age_amp  age_int  age  \\\n",
        "0            6          6              8       2       3        6   35   \n",
        "5            4          4              8   birth       1        1    1   \n",
        "18           4          3              8       3       4        2    2   \n",
        "22           5          6              6       1       3        2   25   \n",
        "29           6          6              8     NaN     NaN      NaN  105   \n",
        "\n",
        "    etiology  etiology_2  hearing_changes   ae  ad_250  ad_500  degree_hl_ad  \\\n",
        "0          1         NaN                1   62      85      85             5   \n",
        "5          1           4                3  NaN     NaN     NaN             6   \n",
        "18         1         NaN                1   17      95      95             6   \n",
        "22         2           1                0  NaN     NaN     NaN             6   \n",
        "29         3         NaN                0  169     NaN     NaN             6   \n",
        "\n",
        "        \n",
        "0  ...  \n",
        "5  ...  \n",
        "18 ...  \n",
        "22 ...  \n",
        "29 ...  \n",
        "\n",
        "[5 rows x 56 columns]"
       ]
      }
     ],
     "prompt_number": 69
    },
    {
     "cell_type": "code",
     "collapsed": false,
     "input": [
      "len(unique_students)"
     ],
     "language": "python",
     "metadata": {},
     "outputs": [
      {
       "metadata": {},
       "output_type": "pyout",
       "prompt_number": 70,
       "text": [
        "1033"
       ]
      }
     ],
     "prompt_number": 70
    },
    {
     "cell_type": "markdown",
     "metadata": {},
     "source": [
      "Gender distribution (proportion male):"
     ]
    },
    {
     "cell_type": "code",
     "collapsed": false,
     "input": [
      "unique_students.male.dropna().mean()"
     ],
     "language": "python",
     "metadata": {},
     "outputs": [
      {
       "metadata": {},
       "output_type": "pyout",
       "prompt_number": 71,
       "text": [
        "0.47902439024390242"
       ]
      }
     ],
     "prompt_number": 71
    },
    {
     "cell_type": "markdown",
     "metadata": {},
     "source": [
      "Distribution of age at implantation in years"
     ]
    },
    {
     "cell_type": "code",
     "collapsed": false,
     "input": [
      "unique_students.age_ci.notnull().sum()"
     ],
     "language": "python",
     "metadata": {},
     "outputs": [
      {
       "metadata": {},
       "output_type": "pyout",
       "prompt_number": 72,
       "text": [
        "403"
       ]
      }
     ],
     "prompt_number": 72
    },
    {
     "cell_type": "code",
     "collapsed": false,
     "input": [
      "(unique_students.age_ci/12.).hist(bins=14)"
     ],
     "language": "python",
     "metadata": {},
     "outputs": [
      {
       "metadata": {},
       "output_type": "pyout",
       "prompt_number": 73,
       "text": [
        "<matplotlib.axes._subplots.AxesSubplot at 0x109a7cd90>"
       ]
      },
      {
       "metadata": {},
       "output_type": "display_data",
       "png": "[encoded data removed]",
       "text": [
        "<matplotlib.figure.Figure at 0x109a7c210>"
       ]
      }
     ],
     "prompt_number": 73
    },
    {
     "cell_type": "markdown",
     "metadata": {},
     "source": [
      "Distribution of age in years"
     ]
    },
    {
     "cell_type": "code",
     "collapsed": false,
     "input": [
      "(unique_students.age/12.).hist(bins=15)"
     ],
     "language": "python",
     "metadata": {},
     "outputs": [
      {
       "metadata": {},
       "output_type": "pyout",
       "prompt_number": 74,
       "text": [
        "<matplotlib.axes._subplots.AxesSubplot at 0x109501210>"
       ]
      },
      {
       "metadata": {},
       "output_type": "display_data",
       "png": "[encoded data removed]",
       "text": [
        "<matplotlib.figure.Figure at 0x1095087d0>"
       ]
      }
     ],
     "prompt_number": 74
    },
    {
     "cell_type": "markdown",
     "metadata": {},
     "source": [
      "Number of bimodal/bilaterals"
     ]
    },
    {
     "cell_type": "code",
     "collapsed": false,
     "input": [
      "(unique_students.bimodal==True).sum()"
     ],
     "language": "python",
     "metadata": {},
     "outputs": [
      {
       "metadata": {},
       "output_type": "pyout",
       "prompt_number": 75,
       "text": [
        "349"
       ]
      }
     ],
     "prompt_number": 75
    },
    {
     "cell_type": "code",
     "collapsed": false,
     "input": [
      "(unique_students.bilateral==True).sum()"
     ],
     "language": "python",
     "metadata": {},
     "outputs": [
      {
       "metadata": {},
       "output_type": "pyout",
       "prompt_number": 76,
       "text": [
        "684"
       ]
      }
     ],
     "prompt_number": 76
    },
    {
     "cell_type": "markdown",
     "metadata": {},
     "source": [
      "Mean age at CI for bimodal and bilateral (`True`=bimodal, `False`=bilateral)"
     ]
    },
    {
     "cell_type": "code",
     "collapsed": false,
     "input": [
      "unique_students.groupby('bimodal')['age_ci'].describe()"
     ],
     "language": "python",
     "metadata": {},
     "outputs": [
      {
       "metadata": {},
       "output_type": "pyout",
       "prompt_number": 77,
       "text": [
        "bimodal       \n",
        "False    count    306.000000\n",
        "         mean      29.642941\n",
        "         std       26.410699\n",
        "         min        0.740000\n",
        "         25%       13.000000\n",
        "         50%       23.000000\n",
        "         75%       35.000000\n",
        "         max      212.000000\n",
        "True     count     97.000000\n",
        "         mean      38.752577\n",
        "         std       25.420641\n",
        "         min       11.000000\n",
        "         25%       23.000000\n",
        "         50%       34.000000\n",
        "         75%       49.000000\n",
        "         max      177.000000\n",
        "dtype: float64"
       ]
      }
     ],
     "prompt_number": 77
    },
    {
     "cell_type": "code",
     "collapsed": false,
     "input": [
      "unique_students.groupby('bimodal')['age'].describe()"
     ],
     "language": "python",
     "metadata": {},
     "outputs": [
      {
       "metadata": {},
       "output_type": "pyout",
       "prompt_number": 78,
       "text": [
        "bimodal       \n",
        "False    count    670.000000\n",
        "         mean      32.492537\n",
        "         std       25.979395\n",
        "         min        1.000000\n",
        "         25%       15.000000\n",
        "         50%       28.000000\n",
        "         75%       42.000000\n",
        "         max      218.000000\n",
        "True     count    339.000000\n",
        "         mean      34.855457\n",
        "         std       26.754302\n",
        "         min        1.000000\n",
        "         25%       18.000000\n",
        "         50%       30.000000\n",
        "         75%       43.500000\n",
        "         max      181.000000\n",
        "dtype: float64"
       ]
      }
     ],
     "prompt_number": 78
    },
    {
     "cell_type": "markdown",
     "metadata": {},
     "source": [
      "Distribution of scores by domain"
     ]
    },
    {
     "cell_type": "code",
     "collapsed": false,
     "input": [
      "lsl_dr.groupby('domain')['score'].describe()"
     ],
     "language": "python",
     "metadata": {},
     "outputs": [
      {
       "metadata": {},
       "output_type": "pyout",
       "prompt_number": 79,
       "text": [
        "domain                      \n",
        "Articulation           count    1502.000000\n",
        "                       mean       77.888149\n",
        "                       std        19.459026\n",
        "                       min        35.000000\n",
        "                       25%        64.000000\n",
        "                       50%        79.000000\n",
        "                       75%        94.000000\n",
        "                       max       120.000000\n",
        "Expressive Vocabulary  count    1771.000000\n",
        "                       mean       84.169960\n",
        "                       std        19.780659\n",
        "                       min        18.000000\n",
        "                       25%        71.000000\n",
        "                       50%        83.000000\n",
        "                       75%        97.000000\n",
        "                       max       146.000000\n",
        "Language               count    3321.000000\n",
        "                       mean       76.694369\n",
        "                       std        19.236251\n",
        "                       min        40.000000\n",
        "                       25%        62.000000\n",
        "                       50%        75.000000\n",
        "                       75%        89.000000\n",
        "                       max       150.000000\n",
        "Receptive Vocabulary   count    1824.000000\n",
        "                       mean       82.108004\n",
        "                       std        18.061784\n",
        "                       min        20.000000\n",
        "                       25%        71.000000\n",
        "                       50%        82.000000\n",
        "                       75%        94.000000\n",
        "                       max       160.000000\n",
        "dtype: float64"
       ]
      }
     ],
     "prompt_number": 79
    },
    {
     "cell_type": "code",
     "collapsed": false,
     "input": [
      "fig, axes = plt.subplots(1, 4, sharex=True, sharey=True, figsize=(10,3))\n",
      "for i,d in enumerate(lsl_dr.domain.unique()):\n",
      "    lsl_dr.score[lsl_dr.domain==d].hist(ax=axes[i], bins=25, grid=False)\n",
      "    axes[i].set_xlabel(d)\n",
      "plt.tight_layout()"
     ],
     "language": "python",
     "metadata": {},
     "outputs": [
      {
       "metadata": {},
       "output_type": "display_data",
       "png": "[encoded data removed]",
       "text": [
        "<matplotlib.figure.Figure at 0x109452b50>"
       ]
      }
     ],
     "prompt_number": 80
    },
    {
     "cell_type": "code",
     "collapsed": false,
     "input": [
      "unique_students.groupby(['bimodal', 'domain'])['score'].describe()"
     ],
     "language": "python",
     "metadata": {},
     "outputs": [
      {
       "metadata": {},
       "output_type": "pyout",
       "prompt_number": 81,
       "text": [
        "bimodal  domain                      \n",
        "False    Articulation           count    361.000000\n",
        "                                mean      75.734072\n",
        "                                std       19.792849\n",
        "                                min       35.000000\n",
        "                                25%       62.000000\n",
        "                                50%       78.000000\n",
        "                                75%       90.000000\n",
        "                                max      120.000000\n",
        "         Expressive Vocabulary  count    144.000000\n",
        "                                mean      80.701389\n",
        "                                std       24.153090\n",
        "                                min       23.000000\n",
        "                                25%       60.000000\n",
        "                                50%       77.000000\n",
        "                                75%       96.250000\n",
        "                                max      145.000000\n",
        "         Language               count    160.000000\n",
        "                                mean      71.075000\n",
        "                                std       19.406136\n",
        "                                min       40.000000\n",
        "                                25%       53.750000\n",
        "                                50%       67.000000\n",
        "                                75%       84.000000\n",
        "                                max      133.000000\n",
        "         Receptive Vocabulary   count     19.000000\n",
        "                                mean      72.894737\n",
        "                                std       20.414850\n",
        "                                min       40.000000\n",
        "                                25%       55.500000\n",
        "                                50%       75.000000\n",
        "                                75%       82.500000\n",
        "                                max      110.000000\n",
        "True     Articulation           count    201.000000\n",
        "                                mean      76.666667\n",
        "                                std       18.721734\n",
        "                                min       39.000000\n",
        "                                25%       63.000000\n",
        "                                50%       76.000000\n",
        "                                75%       92.000000\n",
        "                                max      119.000000\n",
        "         Expressive Vocabulary  count     74.000000\n",
        "                                mean      72.135135\n",
        "                                std       20.555521\n",
        "                                min       38.000000\n",
        "                                25%       55.000000\n",
        "                                50%       69.500000\n",
        "                                75%       88.250000\n",
        "                                max      122.000000\n",
        "         Language               count     65.000000\n",
        "                                mean      65.169231\n",
        "                                std       15.074367\n",
        "                                min       45.000000\n",
        "                                25%       53.000000\n",
        "                                50%       61.000000\n",
        "                                75%       73.000000\n",
        "                                max      111.000000\n",
        "         Receptive Vocabulary   count      9.000000\n",
        "                                mean      72.555556\n",
        "                                std       16.356276\n",
        "                                min       51.000000\n",
        "                                25%       57.000000\n",
        "                                50%       75.000000\n",
        "                                75%       85.000000\n",
        "                                max       94.000000\n",
        "Length: 64, dtype: float64"
       ]
      }
     ],
     "prompt_number": 81
    },
    {
     "cell_type": "markdown",
     "metadata": {},
     "source": [
      "Mean of 250 & 500 Hz for bilateral (CI ears)"
     ]
    },
    {
     "cell_type": "code",
     "collapsed": false,
     "input": [
      "unique_students[(unique_students.bilateral==True) & \n",
      "                (unique_students.tech_left==3)][['ad_250', 'as_250', 'ad_500', 'as_500']].describe()"
     ],
     "language": "python",
     "metadata": {},
     "outputs": [
      {
       "metadata": {},
       "output_type": "pyout",
       "prompt_number": 82,
       "text": [
        "           ad_250      as_250      ad_500      as_500\n",
        "count  212.000000  216.000000  274.000000  285.000000\n",
        "mean    94.268868   93.888889   98.138686   97.719298\n",
        "std     27.726805   27.350722   25.133397   24.703705\n",
        "min     10.000000    0.000000   10.000000   20.000000\n",
        "25%     80.000000   83.750000   90.000000   90.000000\n",
        "50%    100.000000  100.000000  105.000000  100.000000\n",
        "75%    120.000000  120.000000  120.000000  120.000000\n",
        "max    120.000000  120.000000  120.000000  120.000000\n",
        "\n",
        "[8 rows x 4 columns]"
       ]
      }
     ],
     "prompt_number": 82
    },
    {
     "cell_type": "markdown",
     "metadata": {},
     "source": [
      "Mean of 250 & 500 Hz for bimodal (CI ear and non-CI ear)"
     ]
    },
    {
     "cell_type": "code",
     "collapsed": false,
     "input": [
      "# Left ear for CI left\n",
      "unique_students[(unique_students.bimodal==True) &\n",
      "                (unique_students.tech_left==3)][['as_250', 'as_500']].describe()"
     ],
     "language": "python",
     "metadata": {},
     "outputs": [
      {
       "metadata": {},
       "output_type": "pyout",
       "prompt_number": 83,
       "text": [
        "           as_250      as_500\n",
        "count   65.000000   80.000000\n",
        "mean    93.769231   98.187500\n",
        "std     26.984237   22.434768\n",
        "min     15.000000   20.000000\n",
        "25%     85.000000   90.000000\n",
        "50%    100.000000  105.000000\n",
        "75%    120.000000  120.000000\n",
        "max    120.000000  120.000000\n",
        "\n",
        "[8 rows x 2 columns]"
       ]
      }
     ],
     "prompt_number": 83
    },
    {
     "cell_type": "code",
     "collapsed": false,
     "input": [
      "# Right ear for CI left\n",
      "unique_students[(unique_students.bimodal==True) &\n",
      "                (unique_students.tech_left==3)][['ad_250', 'ad_500']].describe()"
     ],
     "language": "python",
     "metadata": {},
     "outputs": [
      {
       "metadata": {},
       "output_type": "pyout",
       "prompt_number": 84,
       "text": [
        "           ad_250      ad_500\n",
        "count   86.000000  103.000000\n",
        "mean    70.639535   74.757282\n",
        "std     23.348970   20.272393\n",
        "min      5.000000   15.000000\n",
        "25%     55.000000   60.000000\n",
        "50%     75.000000   80.000000\n",
        "75%     90.000000   90.000000\n",
        "max    120.000000  120.000000\n",
        "\n",
        "[8 rows x 2 columns]"
       ]
      }
     ],
     "prompt_number": 84
    },
    {
     "cell_type": "code",
     "collapsed": false,
     "input": [
      "# Right ear for CI right\n",
      "unique_students[(unique_students.bimodal==True) &\n",
      "                (unique_students.tech_right==3)][['ad_250', 'ad_500']].describe()"
     ],
     "language": "python",
     "metadata": {},
     "outputs": [
      {
       "metadata": {},
       "output_type": "pyout",
       "prompt_number": 85,
       "text": [
        "           ad_250      ad_500\n",
        "count   98.000000  117.000000\n",
        "mean    90.663265   97.222222\n",
        "std     26.531811   23.657437\n",
        "min     20.000000   15.000000\n",
        "25%     80.000000   90.000000\n",
        "50%     95.000000  100.000000\n",
        "75%    116.250000  120.000000\n",
        "max    120.000000  120.000000\n",
        "\n",
        "[8 rows x 2 columns]"
       ]
      }
     ],
     "prompt_number": 85
    },
    {
     "cell_type": "code",
     "collapsed": false,
     "input": [
      "# Left ear for CI right\n",
      "unique_students[(unique_students.bimodal==True) &\n",
      "                (unique_students.tech_right==3)][['as_250', 'as_500']].describe()"
     ],
     "language": "python",
     "metadata": {},
     "outputs": [
      {
       "metadata": {},
       "output_type": "pyout",
       "prompt_number": 86,
       "text": [
        "           as_250      as_500\n",
        "count  113.000000  126.000000\n",
        "mean    73.849558   79.206349\n",
        "std     21.763838   23.051357\n",
        "min     25.000000   20.000000\n",
        "25%     60.000000   65.000000\n",
        "50%     75.000000   80.000000\n",
        "75%     90.000000   95.000000\n",
        "max    120.000000  120.000000\n",
        "\n",
        "[8 rows x 2 columns]"
       ]
      }
     ],
     "prompt_number": 86
    }
   ],
   "metadata": {}
  }
 ]
}