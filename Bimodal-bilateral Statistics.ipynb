{
 "metadata": {
  "name": ""
 },
 "nbformat": 3,
 "nbformat_minor": 0,
 "worksheets": [
  {
   "cells": [
    {
     "cell_type": "code",
     "collapsed": false,
     "input": [
      "import pandas as pd\n",
      "\n",
      "lsl_dr = pd.read_csv(\"lsl_dr.csv\", index_col=0)"
     ],
     "language": "python",
     "metadata": {},
     "outputs": [],
     "prompt_number": 1
    },
    {
     "cell_type": "markdown",
     "metadata": {},
     "source": [
      "Filter non-english and language testing."
     ]
    },
    {
     "cell_type": "code",
     "collapsed": false,
     "input": [
      "dataset = lsl_dr[(lsl_dr.domain=='Language') & (lsl_dr.non_english==False)]"
     ],
     "language": "python",
     "metadata": {},
     "outputs": [],
     "prompt_number": 2
    },
    {
     "cell_type": "code",
     "collapsed": false,
     "input": [
      "# Null scores\n",
      "dataset.score.isnull().sum()"
     ],
     "language": "python",
     "metadata": {},
     "outputs": [
      {
       "metadata": {},
       "output_type": "pyout",
       "prompt_number": 3,
       "text": [
        "0"
       ]
      }
     ],
     "prompt_number": 3
    },
    {
     "cell_type": "code",
     "collapsed": false,
     "input": [
      "unique_students = dataset.drop_duplicates(cols='study_id')"
     ],
     "language": "python",
     "metadata": {},
     "outputs": [],
     "prompt_number": 4
    },
    {
     "cell_type": "markdown",
     "metadata": {},
     "source": [
      "Number of unique students in subset"
     ]
    },
    {
     "cell_type": "code",
     "collapsed": false,
     "input": [
      "len(unique_students)"
     ],
     "language": "python",
     "metadata": {},
     "outputs": [
      {
       "metadata": {},
       "output_type": "pyout",
       "prompt_number": 5,
       "text": [
        "466"
       ]
      }
     ],
     "prompt_number": 5
    },
    {
     "cell_type": "markdown",
     "metadata": {},
     "source": [
      "Gender distribution"
     ]
    },
    {
     "cell_type": "code",
     "collapsed": false,
     "input": [
      "(unique_students.groupby('male')['male'].count()/float(len(unique_students))).rename({1:'yes', 0:'no'})"
     ],
     "language": "python",
     "metadata": {},
     "outputs": [
      {
       "metadata": {},
       "output_type": "pyout",
       "prompt_number": 6,
       "text": [
        "male\n",
        "no      0.487124\n",
        "yes     0.512876\n",
        "dtype: float64"
       ]
      }
     ],
     "prompt_number": 6
    },
    {
     "cell_type": "markdown",
     "metadata": {},
     "source": [
      "Distribution of age at implantation in months"
     ]
    },
    {
     "cell_type": "code",
     "collapsed": false,
     "input": [
      "unique_students.age_ci.hist(bins=14)"
     ],
     "language": "python",
     "metadata": {},
     "outputs": [
      {
       "metadata": {},
       "output_type": "pyout",
       "prompt_number": 7,
       "text": [
        "<matplotlib.axes._subplots.AxesSubplot at 0x1082f8150>"
       ]
      },
      {
       "metadata": {},
       "output_type": "display_data",
       "png": "[encoded data removed]",
       "text": [
        "<matplotlib.figure.Figure at 0x1082f6e50>"
       ]
      }
     ],
     "prompt_number": 7
    },
    {
     "cell_type": "markdown",
     "metadata": {},
     "source": [
      "Age distribution in months"
     ]
    },
    {
     "cell_type": "code",
     "collapsed": false,
     "input": [
      "unique_students.age.hist(bins=15)"
     ],
     "language": "python",
     "metadata": {},
     "outputs": [
      {
       "metadata": {},
       "output_type": "pyout",
       "prompt_number": 8,
       "text": [
        "<matplotlib.axes._subplots.AxesSubplot at 0x1082eb2d0>"
       ]
      },
      {
       "metadata": {},
       "output_type": "display_data",
       "png": "[encoded data removed]",
       "text": [
        "<matplotlib.figure.Figure at 0x107e93c90>"
       ]
      }
     ],
     "prompt_number": 8
    },
    {
     "cell_type": "markdown",
     "metadata": {},
     "source": [
      "Descriptive statistics of key fields"
     ]
    },
    {
     "cell_type": "code",
     "collapsed": false,
     "input": [
      "unique_students[['age', 'age_ci', 'bimodal', 'bilateral', 'ad_250', 'as_250']].describe()"
     ],
     "language": "python",
     "metadata": {},
     "outputs": [
      {
       "html": [
        "<div style=\"max-height:1000px;max-width:1500px;overflow:auto;\">\n",
        "<table border=\"1\" class=\"dataframe\">\n",
        "  <thead>\n",
        "    <tr style=\"text-align: right;\">\n",
        "      <th></th>\n",
        "      <th>age</th>\n",
        "      <th>age_ci</th>\n",
        "      <th>bimodal</th>\n",
        "      <th>bilateral</th>\n",
        "      <th>ad_250</th>\n",
        "      <th>as_250</th>\n",
        "    </tr>\n",
        "  </thead>\n",
        "  <tbody>\n",
        "    <tr>\n",
        "      <th>count</th>\n",
        "      <td> 466.000000</td>\n",
        "      <td> 177.000000</td>\n",
        "      <td>       466</td>\n",
        "      <td>       466</td>\n",
        "      <td> 124.000000</td>\n",
        "      <td> 123.000000</td>\n",
        "    </tr>\n",
        "    <tr>\n",
        "      <th>mean</th>\n",
        "      <td>  33.536481</td>\n",
        "      <td>  26.631299</td>\n",
        "      <td> 0.2896996</td>\n",
        "      <td> 0.7103004</td>\n",
        "      <td>  86.330645</td>\n",
        "      <td>  85.487805</td>\n",
        "    </tr>\n",
        "    <tr>\n",
        "      <th>std</th>\n",
        "      <td>  23.288646</td>\n",
        "      <td>  18.517272</td>\n",
        "      <td> 0.4541104</td>\n",
        "      <td> 0.4541104</td>\n",
        "      <td>  27.155895</td>\n",
        "      <td>  26.383168</td>\n",
        "    </tr>\n",
        "    <tr>\n",
        "      <th>min</th>\n",
        "      <td>   1.000000</td>\n",
        "      <td>   0.740000</td>\n",
        "      <td>     False</td>\n",
        "      <td>     False</td>\n",
        "      <td>  10.000000</td>\n",
        "      <td>   0.000000</td>\n",
        "    </tr>\n",
        "    <tr>\n",
        "      <th>25%</th>\n",
        "      <td>  18.000000</td>\n",
        "      <td>  14.000000</td>\n",
        "      <td>         0</td>\n",
        "      <td>         0</td>\n",
        "      <td>  73.750000</td>\n",
        "      <td>  70.000000</td>\n",
        "    </tr>\n",
        "    <tr>\n",
        "      <th>50%</th>\n",
        "      <td>  31.500000</td>\n",
        "      <td>  23.000000</td>\n",
        "      <td>         0</td>\n",
        "      <td>         1</td>\n",
        "      <td>  90.000000</td>\n",
        "      <td>  90.000000</td>\n",
        "    </tr>\n",
        "    <tr>\n",
        "      <th>75%</th>\n",
        "      <td>  42.000000</td>\n",
        "      <td>  34.000000</td>\n",
        "      <td>         1</td>\n",
        "      <td>         1</td>\n",
        "      <td> 105.000000</td>\n",
        "      <td> 105.000000</td>\n",
        "    </tr>\n",
        "    <tr>\n",
        "      <th>max</th>\n",
        "      <td> 181.000000</td>\n",
        "      <td> 177.000000</td>\n",
        "      <td>      True</td>\n",
        "      <td>      True</td>\n",
        "      <td> 120.000000</td>\n",
        "      <td> 120.000000</td>\n",
        "    </tr>\n",
        "  </tbody>\n",
        "</table>\n",
        "</div>"
       ],
       "metadata": {},
       "output_type": "pyout",
       "prompt_number": 9,
       "text": [
        "              age      age_ci    bimodal  bilateral      ad_250      as_250\n",
        "count  466.000000  177.000000        466        466  124.000000  123.000000\n",
        "mean    33.536481   26.631299  0.2896996  0.7103004   86.330645   85.487805\n",
        "std     23.288646   18.517272  0.4541104  0.4541104   27.155895   26.383168\n",
        "min      1.000000    0.740000      False      False   10.000000    0.000000\n",
        "25%     18.000000   14.000000          0          0   73.750000   70.000000\n",
        "50%     31.500000   23.000000          0          1   90.000000   90.000000\n",
        "75%     42.000000   34.000000          1          1  105.000000  105.000000\n",
        "max    181.000000  177.000000       True       True  120.000000  120.000000"
       ]
      }
     ],
     "prompt_number": 9
    },
    {
     "cell_type": "markdown",
     "metadata": {},
     "source": [
      "Age by bimodal status (bimodal=True, bilateral=False)"
     ]
    },
    {
     "cell_type": "code",
     "collapsed": false,
     "input": [
      "unique_students.groupby('bimodal')['age'].describe()"
     ],
     "language": "python",
     "metadata": {},
     "outputs": [
      {
       "metadata": {},
       "output_type": "pyout",
       "prompt_number": 10,
       "text": [
        "bimodal       \n",
        "False    count    331.000000\n",
        "         mean      32.395770\n",
        "         std       21.032237\n",
        "         min        1.000000\n",
        "         25%       18.000000\n",
        "         50%       31.000000\n",
        "         75%       42.000000\n",
        "         max      126.000000\n",
        "True     count    135.000000\n",
        "         mean      36.333333\n",
        "         std       27.957057\n",
        "         min        1.000000\n",
        "         25%       20.000000\n",
        "         50%       32.000000\n",
        "         75%       44.000000\n",
        "         max      181.000000\n",
        "dtype: float64"
       ]
      }
     ],
     "prompt_number": 10
    },
    {
     "cell_type": "code",
     "collapsed": false,
     "input": [
      "unique_students.boxplot('age', 'bimodal')"
     ],
     "language": "python",
     "metadata": {},
     "outputs": [
      {
       "metadata": {},
       "output_type": "pyout",
       "prompt_number": 11,
       "text": [
        "<matplotlib.axes._subplots.AxesSubplot at 0x104c28a10>"
       ]
      },
      {
       "metadata": {},
       "output_type": "display_data",
       "png": "[encoded data removed]",
       "text": [
        "<matplotlib.figure.Figure at 0x1041e6dd0>"
       ]
      }
     ],
     "prompt_number": 11
    },
    {
     "cell_type": "code",
     "collapsed": false,
     "input": [
      "unique_students.groupby(['bimodal', 'test_type'])['score'].describe()"
     ],
     "language": "python",
     "metadata": {},
     "outputs": [
      {
       "metadata": {},
       "output_type": "pyout",
       "prompt_number": 12,
       "text": [
        "bimodal  test_type        \n",
        "False    expressive  count      3.000000\n",
        "                     mean      79.333333\n",
        "                     std       15.947832\n",
        "                     min       61.000000\n",
        "                     25%       74.000000\n",
        "                     50%       87.000000\n",
        "                     75%       88.500000\n",
        "                     max       90.000000\n",
        "         receptive   count    328.000000\n",
        "                     mean      77.728659\n",
        "                     std       21.160436\n",
        "                     min       40.000000\n",
        "                     25%       59.750000\n",
        "                     50%       75.000000\n",
        "                     75%       92.000000\n",
        "                     max      131.000000\n",
        "True     expressive  count      1.000000\n",
        "                     mean      45.000000\n",
        "                     std             NaN\n",
        "                     min       45.000000\n",
        "                     25%       45.000000\n",
        "                     50%       45.000000\n",
        "                     75%       45.000000\n",
        "                     max       45.000000\n",
        "         receptive   count    134.000000\n",
        "                     mean      75.985075\n",
        "                     std       18.793690\n",
        "                     min       40.000000\n",
        "                     25%       60.250000\n",
        "                     50%       75.500000\n",
        "                     75%       89.750000\n",
        "                     max      150.000000\n",
        "dtype: float64"
       ]
      }
     ],
     "prompt_number": 12
    },
    {
     "cell_type": "markdown",
     "metadata": {},
     "source": [
      "Audiology metrics for pre-implant children"
     ]
    },
    {
     "cell_type": "code",
     "collapsed": false,
     "input": [
      "ae_notnull = unique_students[unique_students.ae.notnull()]"
     ],
     "language": "python",
     "metadata": {},
     "outputs": [],
     "prompt_number": 13
    },
    {
     "cell_type": "markdown",
     "metadata": {},
     "source": [
      "AD 250"
     ]
    },
    {
     "cell_type": "code",
     "collapsed": false,
     "input": [
      "ae_subset = ae_notnull[(ae_notnull.ae < ae_notnull.age_ci) | (ae_notnull.ae < ae_notnull.age_ci_2)]\n",
      "ae_subset.groupby('bimodal')['ad_250'].describe()"
     ],
     "language": "python",
     "metadata": {},
     "outputs": [
      {
       "metadata": {},
       "output_type": "pyout",
       "prompt_number": 14,
       "text": [
        "bimodal       \n",
        "False    count     34.000000\n",
        "         mean      87.794118\n",
        "         std       28.369616\n",
        "         min       20.000000\n",
        "         25%       75.000000\n",
        "         50%       90.000000\n",
        "         75%      120.000000\n",
        "         max      120.000000\n",
        "True     count     21.000000\n",
        "         mean      78.095238\n",
        "         std       19.967235\n",
        "         min       40.000000\n",
        "         25%       65.000000\n",
        "         50%       85.000000\n",
        "         75%       90.000000\n",
        "         max      105.000000\n",
        "dtype: float64"
       ]
      }
     ],
     "prompt_number": 14
    },
    {
     "cell_type": "markdown",
     "metadata": {},
     "source": [
      "AS 250"
     ]
    },
    {
     "cell_type": "code",
     "collapsed": false,
     "input": [
      "ae_subset.groupby('bimodal')['as_250'].describe()"
     ],
     "language": "python",
     "metadata": {},
     "outputs": [
      {
       "metadata": {},
       "output_type": "pyout",
       "prompt_number": 15,
       "text": [
        "bimodal       \n",
        "False    count     34.000000\n",
        "         mean      87.058824\n",
        "         std       24.927703\n",
        "         min       30.000000\n",
        "         25%       75.000000\n",
        "         50%       87.500000\n",
        "         75%      105.000000\n",
        "         max      120.000000\n",
        "True     count     15.000000\n",
        "         mean      86.000000\n",
        "         std       21.646511\n",
        "         min       50.000000\n",
        "         25%       70.000000\n",
        "         50%       95.000000\n",
        "         75%       97.500000\n",
        "         max      120.000000\n",
        "dtype: float64"
       ]
      }
     ],
     "prompt_number": 15
    },
    {
     "cell_type": "markdown",
     "metadata": {},
     "source": [
      "AD 500"
     ]
    },
    {
     "cell_type": "code",
     "collapsed": false,
     "input": [
      "ae_subset.groupby('bimodal')['ad_500'].describe()"
     ],
     "language": "python",
     "metadata": {},
     "outputs": [
      {
       "metadata": {},
       "output_type": "pyout",
       "prompt_number": 16,
       "text": [
        "bimodal       \n",
        "False    count     38.000000\n",
        "         mean      97.368421\n",
        "         std       21.925452\n",
        "         min       20.000000\n",
        "         25%       86.250000\n",
        "         50%       97.500000\n",
        "         75%      117.500000\n",
        "         max      120.000000\n",
        "True     count     26.000000\n",
        "         mean      79.615385\n",
        "         std       16.788274\n",
        "         min       40.000000\n",
        "         25%       71.250000\n",
        "         50%       80.000000\n",
        "         75%       90.000000\n",
        "         max      110.000000\n",
        "dtype: float64"
       ]
      }
     ],
     "prompt_number": 16
    },
    {
     "cell_type": "markdown",
     "metadata": {},
     "source": [
      "AS 500"
     ]
    },
    {
     "cell_type": "code",
     "collapsed": false,
     "input": [
      "ae_subset.groupby('bimodal')['as_500'].describe()"
     ],
     "language": "python",
     "metadata": {},
     "outputs": [
      {
       "metadata": {},
       "output_type": "pyout",
       "prompt_number": 17,
       "text": [
        "bimodal       \n",
        "False    count     39.000000\n",
        "         mean      92.948718\n",
        "         std       24.674671\n",
        "         min       25.000000\n",
        "         25%       85.000000\n",
        "         50%      100.000000\n",
        "         75%      105.000000\n",
        "         max      120.000000\n",
        "True     count     20.000000\n",
        "         mean      95.750000\n",
        "         std       22.021222\n",
        "         min       50.000000\n",
        "         25%       80.000000\n",
        "         50%      102.500000\n",
        "         75%      110.000000\n",
        "         max      120.000000\n",
        "dtype: float64"
       ]
      }
     ],
     "prompt_number": 17
    }
   ],
   "metadata": {}
  }
 ]
}