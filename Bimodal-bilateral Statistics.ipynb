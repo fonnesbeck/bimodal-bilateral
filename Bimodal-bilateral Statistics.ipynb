{
 "metadata": {
  "name": ""
 },
 "nbformat": 3,
 "nbformat_minor": 0,
 "worksheets": [
  {
   "cells": [
    {
     "cell_type": "code",
     "collapsed": false,
     "input": [
      "# Import modules and set options\n",
      "import pandas as pd\n",
      "import numpy as np\n",
      "pd.set_option('display.notebook_repr_html', False)\n",
      "\n",
      "pd.set_option('display.max_columns', 20)\n",
      "pd.set_option('display.max_rows', 100)\n",
      "rcParams['savefig.dpi'] = 120"
     ],
     "language": "python",
     "metadata": {},
     "outputs": [],
     "prompt_number": 354
    },
    {
     "cell_type": "markdown",
     "metadata": {},
     "source": [
      "Connect to database to import data for the three test domains and demographic information:"
     ]
    },
    {
     "cell_type": "code",
     "collapsed": false,
     "input": [
      "from redcap import Project\n",
      "api_url = 'https://redcap.vanderbilt.edu/api/'\n",
      "api_key = open(\"/Users/fonnescj/Dropbox/LSL-DR/api_token.txt\").read()\n",
      "\n",
      "lsl_dr_project = Project(api_url, api_key)"
     ],
     "language": "python",
     "metadata": {},
     "outputs": [],
     "prompt_number": 355
    },
    {
     "cell_type": "code",
     "collapsed": false,
     "input": [
      "metadata = lsl_dr_project.export_metadata()"
     ],
     "language": "python",
     "metadata": {},
     "outputs": [],
     "prompt_number": 356
    },
    {
     "cell_type": "code",
     "collapsed": false,
     "input": [
      "# metadata = lsl_dr_project.export_metadata(fields=['etiology'])"
     ],
     "language": "python",
     "metadata": {},
     "outputs": [],
     "prompt_number": 357
    },
    {
     "cell_type": "code",
     "collapsed": false,
     "input": [
      "# for i,j in zip(lsl_dr_project.field_names, \n",
      "#                lsl_dr_project.field_labels):\n",
      "#     print('{0}: \\t{1}'.format(i,j))"
     ],
     "language": "python",
     "metadata": {},
     "outputs": [],
     "prompt_number": 358
    },
    {
     "cell_type": "markdown",
     "metadata": {},
     "source": [
      "Import each database from REDCap:"
     ]
    },
    {
     "cell_type": "code",
     "collapsed": false,
     "input": [
      "articulation_fields = ['study_id','redcap_event_name','age_test_aaps','aaps_ss','age_test_gf2','gf2_ss']\n",
      "articulation = lsl_dr_project.export_records(fields=articulation_fields, format='df', df_kwargs={'index_col':None})"
     ],
     "language": "python",
     "metadata": {},
     "outputs": [],
     "prompt_number": 359
    },
    {
     "cell_type": "code",
     "collapsed": false,
     "input": [
      "expressive_fields = ['study_id','redcap_event_name','age_test_eowpvt','eowpvt_ss','age_test_evt','evt_ss']\n",
      "expressive = lsl_dr_project.export_records(fields=expressive_fields, format='df', df_kwargs={'index_col':None})"
     ],
     "language": "python",
     "metadata": {},
     "outputs": [],
     "prompt_number": 360
    },
    {
     "cell_type": "code",
     "collapsed": false,
     "input": [
      "receptive_fields = ['study_id','redcap_event_name','age_test_ppvt','ppvt_ss','age_test_rowpvt','rowpvt_ss']\n",
      "receptive = lsl_dr_project.export_records(fields=receptive_fields, format='df', df_kwargs={'index_col':None})"
     ],
     "language": "python",
     "metadata": {},
     "outputs": [],
     "prompt_number": 361
    },
    {
     "cell_type": "code",
     "collapsed": false,
     "input": [
      "language_fields = ['study_id','redcap_event_name','pls_ac_ss','pls_ec_ss','pls_choice','age_test_pls',\n",
      "                   'owls_lc_ss','owls_oe_ss','age_test_owls',\n",
      "                   'celfp_rl_ss','celfp_el_ss','age_test_celp',\n",
      "                   'celf_elss','celf_rlss','age_test_celf']\n",
      "language_raw = lsl_dr_project.export_records(fields=language_fields, format='df', df_kwargs={'index_col':None,\n",
      "                                                                                             'na_values':[999, 9999]})"
     ],
     "language": "python",
     "metadata": {},
     "outputs": [],
     "prompt_number": 362
    },
    {
     "cell_type": "code",
     "collapsed": false,
     "input": [
      "language_raw"
     ],
     "language": "python",
     "metadata": {},
     "outputs": [
      {
       "metadata": {},
       "output_type": "pyout",
       "prompt_number": 363,
       "text": [
        "<class 'pandas.core.frame.DataFrame'>\n",
        "Int64Index: 8483 entries, 0 to 8482\n",
        "Data columns (total 16 columns):\n",
        "study_id             8483  non-null values\n",
        "redcap_event_name    8483  non-null values\n",
        "age_test_celp        1174  non-null values\n",
        "celfp_rl_ss          1095  non-null values\n",
        "celfp_el_ss          1092  non-null values\n",
        "age_test_celf        610  non-null values\n",
        "celf_rlss            466  non-null values\n",
        "celf_elss            488  non-null values\n",
        "age_test_owls        560  non-null values\n",
        "owls_lc_ss           591  non-null values\n",
        "owls_oe_ss           582  non-null values\n",
        "age_test_pls         2089  non-null values\n",
        "pls_choice___0       8483  non-null values\n",
        "pls_choice___1       8483  non-null values\n",
        "pls_ac_ss            2099  non-null values\n",
        "pls_ec_ss            2096  non-null values\n",
        "dtypes: float64(12), int64(2), object(2)"
       ]
      }
     ],
     "prompt_number": 363
    },
    {
     "cell_type": "code",
     "collapsed": false,
     "input": [
      "demographic_fields = ['study_id','redcap_event_name','redcap_data_access_group',\n",
      "'hl','prim_lang','mother_ed','father_ed','premature_age',\n",
      "'onset_1','age_int','age','age_amp', 'age_ci', 'age_ci_2', 'degree_hl_ad','type_hl_ad','tech_ad','degree_hl_as',\n",
      "'type_hl_as','tech_as','etiology','etiology_2', 'sib', 'gender', 'time', 'ad_250', 'as_250', 'ae',\n",
      "'ad_500', 'as_500', 'fam_age', 'family_inv', 'demo_ses', 'school_lunch', 'medicaid']\n",
      "demographic = lsl_dr_project.export_records(fields=demographic_fields, format='df', \n",
      "                                            df_kwargs={'index_col':None, \n",
      "                                                       'na_values':[999]})"
     ],
     "language": "python",
     "metadata": {},
     "outputs": [],
     "prompt_number": 364
    },
    {
     "cell_type": "code",
     "collapsed": false,
     "input": [
      "demographic[['fam_age', 'family_inv', 'demo_ses', 'school_lunch', 'medicaid']].max()"
     ],
     "language": "python",
     "metadata": {},
     "outputs": [
      {
       "metadata": {},
       "output_type": "pyout",
       "prompt_number": 365,
       "text": [
        "fam_age         333\n",
        "family_inv        4\n",
        "demo_ses          5\n",
        "school_lunch      3\n",
        "medicaid          2\n",
        "dtype: float64"
       ]
      }
     ],
     "prompt_number": 365
    },
    {
     "cell_type": "code",
     "collapsed": false,
     "input": [
      "demographic.fam_age.hist()"
     ],
     "language": "python",
     "metadata": {},
     "outputs": [
      {
       "metadata": {},
       "output_type": "pyout",
       "prompt_number": 366,
       "text": [
        "<matplotlib.axes._subplots.AxesSubplot at 0x107e166d0>"
       ]
      },
      {
       "metadata": {},
       "output_type": "display_data",
       "png": "[encoded data removed]",
       "text": [
        "<matplotlib.figure.Figure at 0x108006dd0>"
       ]
      }
     ],
     "prompt_number": 366
    },
    {
     "cell_type": "code",
     "collapsed": false,
     "input": [
      "demographic.as_250.hist()"
     ],
     "language": "python",
     "metadata": {},
     "outputs": [
      {
       "metadata": {},
       "output_type": "pyout",
       "prompt_number": 367,
       "text": [
        "<matplotlib.axes._subplots.AxesSubplot at 0x109e2d9d0>"
       ]
      },
      {
       "metadata": {},
       "output_type": "display_data",
       "png": "[encoded data removed]",
       "text": [
        "<matplotlib.figure.Figure at 0x10878e650>"
       ]
      }
     ],
     "prompt_number": 367
    },
    {
     "cell_type": "code",
     "collapsed": false,
     "input": [
      "demographic.drop_duplicates('study_id')"
     ],
     "language": "python",
     "metadata": {},
     "outputs": [
      {
       "metadata": {},
       "output_type": "pyout",
       "prompt_number": 368,
       "text": [
        "<class 'pandas.core.frame.DataFrame'>\n",
        "Int64Index: 3549 entries, 0 to 8482\n",
        "Data columns (total 34 columns):\n",
        "study_id             3549  non-null values\n",
        "redcap_event_name    3549  non-null values\n",
        "hl                   3359  non-null values\n",
        "gender               3330  non-null values\n",
        "prim_lang            2897  non-null values\n",
        "sib                  2866  non-null values\n",
        "mother_ed            2610  non-null values\n",
        "father_ed            2590  non-null values\n",
        "premature_age        2828  non-null values\n",
        "onset_1              1336  non-null values\n",
        "age_amp              1241  non-null values\n",
        "age_int              1148  non-null values\n",
        "age                  3272  non-null values\n",
        "etiology             3223  non-null values\n",
        "etiology_2           1604  non-null values\n",
        "ae                   1647  non-null values\n",
        "ad_250               765  non-null values\n",
        "ad_500               1137  non-null values\n",
        "degree_hl_ad         2485  non-null values\n",
        "type_hl_ad           2498  non-null values\n",
        "tech_ad              2658  non-null values\n",
        "age_ci               389  non-null values\n",
        "as_250               757  non-null values\n",
        "as_500               1124  non-null values\n",
        "degree_hl_as         2477  non-null values\n",
        "type_hl_as           2491  non-null values\n",
        "tech_as              2650  non-null values\n",
        "age_ci_2             333  non-null values\n",
        "time                 2345  non-null values\n",
        "fam_age              1611  non-null values\n",
        "family_inv           1603  non-null values\n",
        "demo_ses             116  non-null values\n",
        "school_lunch         127  non-null values\n",
        "medicaid             52  non-null values\n",
        "dtypes: float64(29), object(5)"
       ]
      }
     ],
     "prompt_number": 368
    },
    {
     "cell_type": "markdown",
     "metadata": {},
     "source": [
      "## Cleaning languge dataset\n",
      "\n",
      "5 language measures:\n",
      "\n",
      "- 3 versions of CELF\n",
      "- PLS\n",
      "    - pls_ac_rs: \tPLS: Auditory Comprehension Raw Score\n",
      "    - pls_ac_ss: \tPLS: Auditory Comprehension Standard Score\n",
      "    - pls_ec_rs: \tPLS: Expressive Communication Raw Score\n",
      "    - pls_ec_ss: \tPLS: Expressive Communication Standard Score\n",
      "    - pls_tl_rs: \tPLS: Total Language Score Standard Score Total\n",
      "    - pls_tl_ss: \tPLS: Total Language Score Standard Score\n",
      "- OWLS\n",
      "    - age_test_owls: \tAge at time of testing (OWLS)\n",
      "    - owls_lc_rs: \tOWLS: Listening Comprehension Raw Score\n",
      "    - owls_lc_ss: \tOWLS: Listening Comprehension Standard Score\n",
      "    - owls_oe_rs: \tOWLS: Oral Expression Raw Score\n",
      "    - owls_oe_ss: \tOWLS: Oral Expression Standard Score\n",
      "    - owls_oc_sss: \tOWLS: Oral Composite Sum of Listening Comprehension and Oral Expression Standard Scores\n",
      "    - owls_oc_ss: \tOWLS: Oral Composite Standard Score\n",
      "    - owls_wes_trs: \tOWLS: Written Expression Scale Total Raw Score\n",
      "    - owls_wes_as: \tOWLS: Written Expression Scale Ability Score\n",
      "    - owls_wes_ss: \tOWLS: Written Expression Scale Standard Score\n",
      "    - owsl_lc: \tOWLS: Written Expression Scale Language Composite (Sum of written expression age-based standard score, listening comprehension standard score and oral expression standard score)\n",
      "    - owls_lcss: \tOWLS: Language Composite Standard Score"
     ]
    },
    {
     "cell_type": "code",
     "collapsed": false,
     "input": [
      "# Test type\n",
      "language_raw[\"test_name\"] = None\n",
      "language_raw[\"test_type\"] = None\n",
      "language_raw[\"score\"] = None\n",
      "CELP = language_raw.age_test_celp.notnull()\n",
      "CELF = language_raw.age_test_celf.notnull()\n",
      "PLS = language_raw.age_test_pls.notnull()\n",
      "OWLS = language_raw.age_test_owls.notnull()\n",
      "\n",
      "language_raw['age_test'] = None\n",
      "language_raw['age_test'][CELP] = language_raw.age_test_celp\n",
      "language_raw['age_test'][CELF] = language_raw.age_test_celf\n",
      "language_raw['age_test'][PLS] = language_raw.age_test_pls\n",
      "language_raw['age_test'][OWLS] = language_raw.age_test_owls\n",
      "\n",
      "language1 = language_raw[CELP | CELF | PLS | OWLS]\n",
      "language2 = language1.copy()\n",
      "\n",
      "language1[\"test_type\"] = \"receptive\"\n",
      "\n",
      "language1[\"test_name\"][CELP] = \"CELF-P2\"\n",
      "language1[\"test_name\"][CELF] = \"CELF-4\"\n",
      "language1[\"test_name\"][PLS] = \"PLS\"\n",
      "language1[\"test_name\"][OWLS] = \"OWLS\"\n",
      "\n",
      "language1[\"score\"][CELP] = language1.celfp_rl_ss\n",
      "language1[\"score\"][CELF] = language1.celf_rlss\n",
      "language1[\"score\"][PLS] = language1.pls_ac_ss\n",
      "language1[\"score\"][OWLS] = language1.owls_lc_ss\n",
      "\n",
      "\n",
      "language2[\"test_type\"] = \"expressive\"\n",
      "\n",
      "language2[\"test_name\"][CELP] = \"CELF-P2\"\n",
      "language2[\"test_name\"][CELF] = \"CELF-4\"\n",
      "language2[\"test_name\"][PLS] = \"PLS\"\n",
      "language2[\"test_name\"][OWLS] = \"OWLS\"\n",
      "\n",
      "language2[\"score\"][CELP] = language1.celfp_el_ss\n",
      "language2[\"score\"][CELF] = language1.celf_elss\n",
      "language2[\"score\"][PLS] = language1.pls_ec_ss\n",
      "language2[\"score\"][OWLS] = language1.owls_oe_ss\n",
      "\n",
      "language = pd.concat([language1, language2])\n",
      "language = language[language.score.notnull()]\n",
      "print pd.crosstab(language.test_name, language.test_type)\n",
      "print(\"There are {0} null values for score\".format(sum(language[\"score\"].isnull())))"
     ],
     "language": "python",
     "metadata": {},
     "outputs": [
      {
       "output_type": "stream",
       "stream": "stdout",
       "text": [
        "test_type  expressive  receptive\n",
        "test_name                       \n",
        "CELF-4            359        335\n",
        "CELF-P2           836        839\n",
        "OWLS              533        542\n",
        "PLS              1999       2002\n",
        "There are 0 null values for score\n"
       ]
      }
     ],
     "prompt_number": 369
    },
    {
     "cell_type": "markdown",
     "metadata": {},
     "source": [
      "A `school` variable was added, which is the first four columns of the `study_id`:"
     ]
    },
    {
     "cell_type": "code",
     "collapsed": false,
     "input": [
      "language[\"school\"] = language.study_id.str.slice(0,4)"
     ],
     "language": "python",
     "metadata": {},
     "outputs": [],
     "prompt_number": 370
    },
    {
     "cell_type": "code",
     "collapsed": false,
     "input": [
      "language = language[[\"study_id\", \"score\", \"test_type\", \"test_name\", \"school\", \"age_test\"]]\n",
      "language[\"domain\"] = \"Language\"\n",
      "language.head()"
     ],
     "language": "python",
     "metadata": {},
     "outputs": [
      {
       "metadata": {},
       "output_type": "pyout",
       "prompt_number": 371,
       "text": [
        "          study_id score  test_type test_name school age_test    domain\n",
        "5   0101-2003-0101    61  receptive      OWLS   0101      113  Language\n",
        "9   0101-2003-0102    55  receptive       PLS   0101       44  Language\n",
        "10  0101-2003-0102    77  receptive       PLS   0101       54  Language\n",
        "11  0101-2003-0102    93  receptive   CELF-P2   0101       68  Language\n",
        "12  0101-2004-0101    50  receptive       PLS   0101       37  Language"
       ]
      }
     ],
     "prompt_number": 371
    },
    {
     "cell_type": "markdown",
     "metadata": {},
     "source": [
      "## Cleaning articulation dataset\n",
      "\n",
      "We converted the articulation dataset into a \"long\" format:"
     ]
    },
    {
     "cell_type": "code",
     "collapsed": false,
     "input": [
      "# Test type\n",
      "articulation[\"test_type\"] = None\n",
      "ARIZ = articulation.aaps_ss.notnull()\n",
      "GF = articulation.gf2_ss.notnull()\n",
      "articulation = articulation[ARIZ | GF]\n",
      "articulation[\"test_type\"][ARIZ & GF] = \"Arizonia and Goldman\"\n",
      "articulation[\"test_type\"][ARIZ & GF-True] = \"Arizonia\"\n",
      "articulation[\"test_type\"][ARIZ-True & GF] = \"Goldman\"\n",
      "\n",
      "print articulation.test_type.value_counts()\n",
      "print(\"There are {0} null values for test_type\".format(sum(articulation[\"test_type\"].isnull())))\n",
      "\n",
      "# Test score (Arizonia if both)\n",
      "articulation[\"score\"] = articulation.aaps_ss\n",
      "articulation[\"score\"][ARIZ-True & GF] = articulation.gf2_ss[ARIZ-True & GF]"
     ],
     "language": "python",
     "metadata": {},
     "outputs": [
      {
       "output_type": "stream",
       "stream": "stdout",
       "text": [
        "Goldman                 2815\n",
        "Arizonia                 420\n",
        "Arizonia and Goldman      18\n",
        "dtype: int64\n",
        "There are 0 null values for test_type\n"
       ]
      }
     ],
     "prompt_number": 372
    },
    {
     "cell_type": "markdown",
     "metadata": {},
     "source": [
      "A `school` variable was added, which is the first four columns of the `study_id`:"
     ]
    },
    {
     "cell_type": "code",
     "collapsed": false,
     "input": [
      "articulation[\"school\"] = articulation.study_id.str.slice(0,4)"
     ],
     "language": "python",
     "metadata": {},
     "outputs": [],
     "prompt_number": 373
    },
    {
     "cell_type": "markdown",
     "metadata": {},
     "source": [
      "The age was taken to be the Arizonia age if there are both test types:"
     ]
    },
    {
     "cell_type": "code",
     "collapsed": false,
     "input": [
      "articulation[\"age_test\"] = articulation.age_test_aaps\n",
      "articulation.age_test[articulation.age_test.isnull()] = articulation.age_test_gf2[articulation.age_test.isnull()]\n",
      "print articulation.age_test.describe()"
     ],
     "language": "python",
     "metadata": {},
     "outputs": [
      {
       "output_type": "stream",
       "stream": "stdout",
       "text": [
        "count    3251.000000\n",
        "mean       67.244233\n",
        "std        29.373940\n",
        "min         0.000000\n",
        "25%        47.000000\n",
        "50%        59.000000\n",
        "75%        78.000000\n",
        "max       243.000000\n",
        "Name: age_test, dtype: float64\n"
       ]
      }
     ],
     "prompt_number": 374
    },
    {
     "cell_type": "markdown",
     "metadata": {},
     "source": [
      "Finally, we dropped unwanted columns and added a domain identification column for merging:"
     ]
    },
    {
     "cell_type": "code",
     "collapsed": false,
     "input": [
      "articulation.columns"
     ],
     "language": "python",
     "metadata": {},
     "outputs": [
      {
       "metadata": {},
       "output_type": "pyout",
       "prompt_number": 375,
       "text": [
        "Index([u'study_id', u'redcap_event_name', u'age_test_aaps', u'aaps_ss', u'age_test_gf2', u'gf2_ss', u'test_type', u'score', u'school', u'age_test'], dtype='object')"
       ]
      }
     ],
     "prompt_number": 375
    },
    {
     "cell_type": "code",
     "collapsed": false,
     "input": [
      "articulation = articulation.drop([\"redcap_event_name\", \"age_test_aaps\", \"age_test_gf2\", \"aaps_ss\", \"gf2_ss\"], axis=1)\n",
      "articulation[\"domain\"] = \"Articulation\"\n",
      "articulation.head()"
     ],
     "language": "python",
     "metadata": {},
     "outputs": [
      {
       "metadata": {},
       "output_type": "pyout",
       "prompt_number": 376,
       "text": [
        "          study_id test_type  score school  age_test        domain\n",
        "1   0101-2003-0101   Goldman     78   0101        80  Articulation\n",
        "9   0101-2003-0102   Goldman     72   0101        44  Articulation\n",
        "10  0101-2003-0102   Goldman     97   0101        54  Articulation\n",
        "14  0101-2004-0101   Goldman     75   0101        53  Articulation\n",
        "15  0101-2004-0101   Goldman     80   0101        66  Articulation"
       ]
      }
     ],
     "prompt_number": 376
    },
    {
     "cell_type": "markdown",
     "metadata": {},
     "source": [
      "## Cleaning demographic dataset\n",
      "\n",
      "We excluded unwanted columns and rows for which age, gender or race were missing:"
     ]
    },
    {
     "cell_type": "code",
     "collapsed": false,
     "input": [
      "# Retain only subset of columns\n",
      "#demographic = demographic[demographic.gender.notnull()]\n",
      "demographic = demographic.rename(columns={'gender':'male'})"
     ],
     "language": "python",
     "metadata": {},
     "outputs": [],
     "prompt_number": 377
    },
    {
     "cell_type": "markdown",
     "metadata": {},
     "source": [
      "Due to sample size considerations, we reduced the non-English primary language variable to English (0) and non-English (1):"
     ]
    },
    {
     "cell_type": "code",
     "collapsed": false,
     "input": [
      "demographic[\"non_english\"] = None\n",
      "demographic.non_english[demographic.prim_lang.notnull()] = demographic.prim_lang[demographic.prim_lang.notnull()]>0\n",
      "print demographic.non_english.value_counts()\n",
      "print(\"There are {0} null values for non_english\".format(sum(demographic.non_english.isnull())))"
     ],
     "language": "python",
     "metadata": {},
     "outputs": [
      {
       "output_type": "stream",
       "stream": "stdout",
       "text": [
        "False    2429\n",
        "True      502\n",
        "dtype: int64\n",
        "There are 5552 null values for non_english\n"
       ]
      }
     ],
     "prompt_number": 378
    },
    {
     "cell_type": "markdown",
     "metadata": {},
     "source": [
      "Mother's education (`mother_ed`) and father's education (`father_ed`) were both recoded to: \n",
      "\n",
      "* 0=no high school diploma\n",
      "* 1=high school\n",
      "* 2=undergraduate\n",
      "* 3=graduate\n",
      "\n",
      "Category 6 (unknown) was recoded as missing."
     ]
    },
    {
     "cell_type": "code",
     "collapsed": false,
     "input": [
      "demographic = demographic.rename(columns={\"mother_ed\":\"_mother_ed\"})\n",
      "demographic[\"mother_ed\"] = demographic._mother_ed.copy()\n",
      "demographic.mother_ed[demographic._mother_ed==1] = 0\n",
      "demographic.mother_ed[(demographic._mother_ed==2) | (demographic.mother_ed==3)] = 1\n",
      "demographic.mother_ed[demographic._mother_ed==4] = 2\n",
      "demographic.mother_ed[demographic._mother_ed==5] = 3\n",
      "demographic.mother_ed[demographic._mother_ed==6] = None\n",
      "print(\"_mother_ed:\")\n",
      "print demographic._mother_ed.value_counts()\n",
      "print(\"mother_ed:\")\n",
      "print demographic.mother_ed.value_counts()\n",
      "print(\"\\nThere are {0} null values for mother_ed\".format(sum(demographic.mother_ed.isnull())))"
     ],
     "language": "python",
     "metadata": {},
     "outputs": [
      {
       "output_type": "stream",
       "stream": "stdout",
       "text": [
        "_mother_ed:\n",
        "6    900\n",
        "4    595\n",
        "3    404\n",
        "5    331\n",
        "2    256\n",
        "1    111\n",
        "0     48\n",
        "dtype: int64\n",
        "mother_ed:\n",
        "1    660\n",
        "2    595\n",
        "3    331\n",
        "0    159\n",
        "dtype: int64\n",
        "\n",
        "There are 6738 null values for mother_ed\n"
       ]
      }
     ],
     "prompt_number": 379
    },
    {
     "cell_type": "markdown",
     "metadata": {},
     "source": [
      "Secondary diagnosis"
     ]
    },
    {
     "cell_type": "code",
     "collapsed": false,
     "input": [
      "demographic['secondary_diagnosis'] = demographic.etiology==0"
     ],
     "language": "python",
     "metadata": {},
     "outputs": [],
     "prompt_number": 380
    },
    {
     "cell_type": "code",
     "collapsed": false,
     "input": [
      "demographic.secondary_diagnosis.value_counts()"
     ],
     "language": "python",
     "metadata": {},
     "outputs": [
      {
       "metadata": {},
       "output_type": "pyout",
       "prompt_number": 381,
       "text": [
        "False    7943\n",
        "True      540\n",
        "dtype: int64"
       ]
      }
     ],
     "prompt_number": 381
    },
    {
     "cell_type": "code",
     "collapsed": false,
     "input": [
      "demographic.secondary_diagnosis.mean()"
     ],
     "language": "python",
     "metadata": {},
     "outputs": [
      {
       "metadata": {},
       "output_type": "pyout",
       "prompt_number": 382,
       "text": [
        "0.063656725215136156"
       ]
      }
     ],
     "prompt_number": 382
    },
    {
     "cell_type": "markdown",
     "metadata": {},
     "source": [
      "Premature status was recoded to True (premature) and False (full-term). Here, premature indicates <36 weeks."
     ]
    },
    {
     "cell_type": "code",
     "collapsed": false,
     "input": [
      "demographic['premature_weeks'] = demographic.premature_age.copy()\n",
      "demographic.premature_weeks[demographic.premature_age==9] = None\n",
      "demographic.premature_weeks = abs(demographic.premature_weeks-8)*2\n",
      "print(\"There are {0} null values for premature_weeks\".format(sum(demographic.premature_weeks.isnull())))"
     ],
     "language": "python",
     "metadata": {},
     "outputs": [
      {
       "output_type": "stream",
       "stream": "stdout",
       "text": [
        "There are 6141 null values for premature_weeks\n"
       ]
      }
     ],
     "prompt_number": 383
    },
    {
     "cell_type": "code",
     "collapsed": false,
     "input": [
      "demographic.premature_weeks.value_counts()"
     ],
     "language": "python",
     "metadata": {},
     "outputs": [
      {
       "metadata": {},
       "output_type": "pyout",
       "prompt_number": 384,
       "text": [
        "0     2002\n",
        "2      116\n",
        "4       73\n",
        "12      44\n",
        "6       37\n",
        "10      34\n",
        "8       25\n",
        "14       9\n",
        "16       2\n",
        "dtype: int64"
       ]
      }
     ],
     "prompt_number": 384
    },
    {
     "cell_type": "markdown",
     "metadata": {},
     "source": [
      "Recode impant technology variables for each ear to one of four categories (None, Baha, Hearing aid, Cochlear implant):"
     ]
    },
    {
     "cell_type": "code",
     "collapsed": false,
     "input": [
      "tech_cats = [\"None\", \"Baha\", \"Hearing aid\", \"Cochlear\"]\n",
      "\n",
      "demographic[\"tech_right\"] = demographic.tech_ad.copy()\n",
      "demographic.tech_right[demographic.tech_right==6] = 0\n",
      "demographic.tech_right[demographic.tech_right==4] = 1\n",
      "demographic.tech_right[demographic.tech_right==5] = 1\n",
      "demographic.tech_right[demographic.tech_right==3] = 2\n",
      "demographic.tech_right[demographic.tech_right==7] = 3\n",
      "demographic.tech_right = np.abs(demographic.tech_right - 3)\n",
      "\n",
      "demographic[\"tech_left\"] = demographic.tech_as.copy()\n",
      "demographic.tech_left[demographic.tech_left==6] = 0\n",
      "demographic.tech_left[demographic.tech_left==4] = 1\n",
      "demographic.tech_left[demographic.tech_left==5] = 1\n",
      "demographic.tech_left[demographic.tech_left==3] = 2\n",
      "demographic.tech_left[demographic.tech_left==7] = 3\n",
      "demographic.tech_left = np.abs(demographic.tech_left - 3)"
     ],
     "language": "python",
     "metadata": {},
     "outputs": [],
     "prompt_number": 385
    },
    {
     "cell_type": "markdown",
     "metadata": {},
     "source": [
      "Substitute valid missing values for hearing loss:"
     ]
    },
    {
     "cell_type": "code",
     "collapsed": false,
     "input": [
      "demographic.type_hl_ad[demographic.type_hl_ad==5] = None\n",
      "demographic.type_hl_as[demographic.type_hl_as==5] = None"
     ],
     "language": "python",
     "metadata": {},
     "outputs": [],
     "prompt_number": 386
    },
    {
     "cell_type": "markdown",
     "metadata": {},
     "source": [
      "Create `degree_hl`, which is the maximum level of hearing loss in either ear:"
     ]
    },
    {
     "cell_type": "code",
     "collapsed": false,
     "input": [
      "demographic[\"degree_hl\"] = np.maximum(demographic.degree_hl_ad, demographic.degree_hl_as)"
     ],
     "language": "python",
     "metadata": {},
     "outputs": [],
     "prompt_number": 387
    },
    {
     "cell_type": "markdown",
     "metadata": {},
     "source": [
      "Create compound indicator variable for each technology (Baha, Hearing aid, Chochlear implant): \n",
      "\n",
      "* 0=none\n",
      "* 1=one ear\n",
      "* 2=both ears."
     ]
    },
    {
     "cell_type": "code",
     "collapsed": false,
     "input": [
      "demographic[\"baha\"] = 0\n",
      "demographic.baha = demographic.baha.astype(object)\n",
      "demographic.baha[(demographic.tech_right==1) | (demographic.tech_left==1)] = 1\n",
      "demographic.baha[(demographic.tech_right==1) & (demographic.tech_left==1)] = 2\n",
      "demographic.baha[(demographic.tech_right.isnull()) & (demographic.tech_left.isnull())] = None\n",
      "print(\"baha:\")\n",
      "print demographic.baha.value_counts()\n",
      "print(\"There are {0} null values for baha\".format(sum(demographic.baha.isnull())))\n",
      "\n",
      "demographic[\"hearing_aid\"] = 0\n",
      "demographic.hearing_aid = demographic.hearing_aid.astype(object)\n",
      "demographic.hearing_aid[(demographic.tech_right==2) | (demographic.tech_left==2)] = 1\n",
      "demographic.hearing_aid[(demographic.tech_right==2) & (demographic.tech_left==2)] = 2\n",
      "demographic.hearing_aid[(demographic.tech_right.isnull()) & (demographic.tech_right.isnull())] = None\n",
      "print(\"\\nhearing_aid:\")\n",
      "print demographic.hearing_aid.value_counts()\n",
      "print(\"There are {0} null values for hearing_aid\".format(sum(demographic.hearing_aid.isnull())))\n",
      "\n",
      "demographic[\"cochlear\"] = 0\n",
      "demographic.cochlear = demographic.cochlear.astype(object)\n",
      "demographic.cochlear[(demographic.tech_right==3) | (demographic.tech_left==3)] = 1\n",
      "demographic.cochlear[(demographic.tech_right==3) & (demographic.tech_left==3)] = 2\n",
      "demographic.cochlear[(demographic.tech_right.isnull()) & (demographic.tech_left.isnull())] = None\n",
      "print(\"\\ncochlear:\")\n",
      "print demographic.cochlear.value_counts()\n",
      "print(\"There are {0} null values for cochlear\".format(sum(demographic.cochlear.isnull())))\n",
      "print len(demographic)"
     ],
     "language": "python",
     "metadata": {},
     "outputs": [
      {
       "output_type": "stream",
       "stream": "stdout",
       "text": [
        "baha:\n",
        "0    5599\n",
        "1     168\n",
        "2      73\n",
        "dtype: int64\n",
        "There are 2643 null values for baha\n",
        "\n",
        "hearing_aid:\n",
        "0    2586\n",
        "2    2256\n",
        "1     908\n",
        "dtype: int64\n",
        "There are 2733 null values for hearing_aid\n",
        "\n",
        "cochlear:\n",
        "0    3108\n",
        "2    1582\n",
        "1    1150\n",
        "dtype: int64\n",
        "There are 2643 null values for cochlear\n",
        "8483\n"
       ]
      }
     ],
     "prompt_number": 388
    },
    {
     "cell_type": "markdown",
     "metadata": {},
     "source": [
      "Identify bilateral and bimodal individuals:"
     ]
    },
    {
     "cell_type": "code",
     "collapsed": false,
     "input": [
      "demographic[\"bilateral\"] = demographic.cochlear==2\n",
      "demographic[\"bimodal\"] = (demographic.cochlear==1) & (demographic.hearing_aid==1)"
     ],
     "language": "python",
     "metadata": {},
     "outputs": [],
     "prompt_number": 389
    },
    {
     "cell_type": "code",
     "collapsed": false,
     "input": [
      "demographic.bilateral.sum(), demographic.bimodal.sum()"
     ],
     "language": "python",
     "metadata": {},
     "outputs": [
      {
       "metadata": {},
       "output_type": "pyout",
       "prompt_number": 390,
       "text": [
        "(1582, 649)"
       ]
      }
     ],
     "prompt_number": 390
    },
    {
     "cell_type": "markdown",
     "metadata": {},
     "source": [
      "Create variable that identifies bilateral (0), bilateral HA left (1), bilateral HA right (2)"
     ]
    },
    {
     "cell_type": "code",
     "collapsed": false,
     "input": [
      "demographic['tech'] = 0\n",
      "demographic.tech[(demographic.bimodal) & (demographic.tech_left==2)] = 1\n",
      "demographic.tech[(demographic.bimodal) & (demographic.tech_right==2)] = 2\n",
      "print(\"There are {0} null values for tech\".format(sum(demographic.tech.isnull())))"
     ],
     "language": "python",
     "metadata": {},
     "outputs": [
      {
       "output_type": "stream",
       "stream": "stdout",
       "text": [
        "There are 0 null values for tech\n"
       ]
      }
     ],
     "prompt_number": 391
    },
    {
     "cell_type": "markdown",
     "metadata": {},
     "source": [
      "Filter out non-bilateral/bimodal individuals:"
     ]
    },
    {
     "cell_type": "code",
     "collapsed": false,
     "input": [
      "bimodal_bilateral = demographic[demographic.bilateral | demographic.bimodal]"
     ],
     "language": "python",
     "metadata": {},
     "outputs": [],
     "prompt_number": 392
    },
    {
     "cell_type": "code",
     "collapsed": false,
     "input": [
      "bimodal_bilateral['type'] = np.where(bimodal_bilateral.bilateral, 'bilateral', 'bimodal')"
     ],
     "language": "python",
     "metadata": {},
     "outputs": [],
     "prompt_number": 393
    },
    {
     "cell_type": "markdown",
     "metadata": {},
     "source": [
      "## Cleaning expressive vocabulary dataset\n",
      "\n",
      "We converted the expressive vocabulary dataset to \"long\" format:"
     ]
    },
    {
     "cell_type": "code",
     "collapsed": false,
     "input": [
      "# Test type\n",
      "expressive[\"test_type\"] = None\n",
      "EOWPVT = expressive.eowpvt_ss.notnull()\n",
      "EVT = expressive.evt_ss.notnull()\n",
      "expressive = expressive[EOWPVT | EVT]\n",
      "expressive[\"test_type\"][EOWPVT & EVT] = \"EOWPVT and EVT\"\n",
      "expressive[\"test_type\"][EOWPVT & (EVT-True)] = \"EOWPVT\"\n",
      "expressive[\"test_type\"][(EOWPVT-True) & EVT] = \"EVT\"\n",
      "print(\"There are {0} null values for test_type\".format(sum(expressive[\"test_type\"].isnull())))\n",
      "\n",
      "expressive[\"score\"] = expressive.eowpvt_ss\n",
      "expressive[\"score\"][EOWPVT-True & EVT] = expressive.evt_ss[(EOWPVT-True) & EVT]"
     ],
     "language": "python",
     "metadata": {},
     "outputs": [
      {
       "output_type": "stream",
       "stream": "stdout",
       "text": [
        "There are 0 null values for test_type\n"
       ]
      }
     ],
     "prompt_number": 394
    },
    {
     "cell_type": "code",
     "collapsed": false,
     "input": [
      "expressive.test_type.value_counts()"
     ],
     "language": "python",
     "metadata": {},
     "outputs": [
      {
       "metadata": {},
       "output_type": "pyout",
       "prompt_number": 395,
       "text": [
        "EVT               2278\n",
        "EOWPVT            1580\n",
        "EOWPVT and EVT      78\n",
        "dtype: int64"
       ]
      }
     ],
     "prompt_number": 395
    },
    {
     "cell_type": "markdown",
     "metadata": {},
     "source": [
      "A `school` variable was added, which is the first four columns of the `study_id`:"
     ]
    },
    {
     "cell_type": "code",
     "collapsed": false,
     "input": [
      "expressive[\"school\"] = expressive.study_id.str.slice(0,4)"
     ],
     "language": "python",
     "metadata": {},
     "outputs": [],
     "prompt_number": 396
    },
    {
     "cell_type": "markdown",
     "metadata": {},
     "source": [
      "The age was taken to be the EOWPVT age if there are both test types:"
     ]
    },
    {
     "cell_type": "code",
     "collapsed": false,
     "input": [
      "expressive[\"age_test\"] = expressive.age_test_eowpvt\n",
      "expressive.age_test[expressive.age_test.isnull()] = expressive.age_test_evt[expressive.age_test.isnull()]"
     ],
     "language": "python",
     "metadata": {},
     "outputs": [],
     "prompt_number": 397
    },
    {
     "cell_type": "markdown",
     "metadata": {},
     "source": [
      "Finally, we dropped unwanted columns and added a domain identification column for merging:"
     ]
    },
    {
     "cell_type": "code",
     "collapsed": false,
     "input": [
      "expressive = expressive[[\"study_id\", \"score\", \"test_type\", \"school\", \"age_test\"]]\n",
      "expressive[\"domain\"] = \"Expressive Vocabulary\"\n",
      "expressive.head()"
     ],
     "language": "python",
     "metadata": {},
     "outputs": [
      {
       "metadata": {},
       "output_type": "pyout",
       "prompt_number": 398,
       "text": [
        "          study_id  score test_type school  age_test                 domain\n",
        "0   0101-2003-0101     60    EOWPVT   0101        54  Expressive Vocabulary\n",
        "2   0101-2003-0101     84    EOWPVT   0101        80  Expressive Vocabulary\n",
        "5   0101-2003-0101     90    EOWPVT   0101       113  Expressive Vocabulary\n",
        "14  0101-2004-0101     90    EOWPVT   0101        53  Expressive Vocabulary\n",
        "15  0101-2004-0101     87    EOWPVT   0101       NaN  Expressive Vocabulary"
       ]
      }
     ],
     "prompt_number": 398
    },
    {
     "cell_type": "code",
     "collapsed": false,
     "input": [
      "expressive"
     ],
     "language": "python",
     "metadata": {},
     "outputs": [
      {
       "metadata": {},
       "output_type": "pyout",
       "prompt_number": 399,
       "text": [
        "<class 'pandas.core.frame.DataFrame'>\n",
        "Int64Index: 3936 entries, 0 to 8473\n",
        "Data columns (total 6 columns):\n",
        "study_id     3936  non-null values\n",
        "score        3936  non-null values\n",
        "test_type    3936  non-null values\n",
        "school       3936  non-null values\n",
        "age_test     3913  non-null values\n",
        "domain       3936  non-null values\n",
        "dtypes: float64(2), object(4)"
       ]
      }
     ],
     "prompt_number": 399
    },
    {
     "cell_type": "markdown",
     "metadata": {},
     "source": [
      "## Cleaning receptive vocabulary dataset"
     ]
    },
    {
     "cell_type": "markdown",
     "metadata": {},
     "source": [
      "We converted the receptive vocabulary data table to \"long\" format:"
     ]
    },
    {
     "cell_type": "code",
     "collapsed": false,
     "input": [
      "receptive.columns"
     ],
     "language": "python",
     "metadata": {},
     "outputs": [
      {
       "metadata": {},
       "output_type": "pyout",
       "prompt_number": 400,
       "text": [
        "Index([u'study_id', u'redcap_event_name', u'age_test_ppvt', u'ppvt_ss', u'age_test_rowpvt', u'rowpvt_ss'], dtype='object')"
       ]
      }
     ],
     "prompt_number": 400
    },
    {
     "cell_type": "code",
     "collapsed": false,
     "input": [
      "# Test type\n",
      "receptive[\"test_type\"] = None\n",
      "PPVT = receptive.ppvt_ss.notnull()\n",
      "ROWPVT = receptive.rowpvt_ss.notnull()\n",
      "receptive = receptive[PPVT | ROWPVT]\n",
      "receptive[\"test_type\"][PPVT & ROWPVT] = \"PPVT and ROWPVT\"\n",
      "receptive[\"test_type\"][PPVT & (ROWPVT-True)] = \"PPVT\"\n",
      "receptive[\"test_type\"][(PPVT-True) & ROWPVT] = \"ROWPVT\"\n",
      "print(\"There are {0} null values for test_type\".format(sum(receptive[\"test_type\"].isnull())))\n",
      "\n",
      "receptive[\"score\"] = receptive.ppvt_ss\n",
      "receptive[\"score\"][(PPVT-True) & ROWPVT] = receptive.rowpvt_ss[(PPVT-True) & ROWPVT]"
     ],
     "language": "python",
     "metadata": {},
     "outputs": [
      {
       "output_type": "stream",
       "stream": "stdout",
       "text": [
        "There are 0 null values for test_type\n"
       ]
      }
     ],
     "prompt_number": 401
    },
    {
     "cell_type": "markdown",
     "metadata": {},
     "source": [
      "A `school` variable was added, which is the first four columns of the `study_id`:"
     ]
    },
    {
     "cell_type": "code",
     "collapsed": false,
     "input": [
      "receptive[\"school\"] = receptive.study_id.str.slice(0,4)"
     ],
     "language": "python",
     "metadata": {},
     "outputs": [],
     "prompt_number": 402
    },
    {
     "cell_type": "markdown",
     "metadata": {},
     "source": [
      "The age was taken to be the PPVT age if there are both test types:"
     ]
    },
    {
     "cell_type": "code",
     "collapsed": false,
     "input": [
      "receptive[\"age_test\"] = receptive.age_test_ppvt\n",
      "receptive.age_test[receptive.age_test.isnull()] = receptive.age_test_rowpvt[receptive.age_test.isnull()]"
     ],
     "language": "python",
     "metadata": {},
     "outputs": [],
     "prompt_number": 403
    },
    {
     "cell_type": "code",
     "collapsed": false,
     "input": [
      "print(\"There are {0} null values for age_test\".format(sum(receptive.age_test.isnull())))"
     ],
     "language": "python",
     "metadata": {},
     "outputs": [
      {
       "output_type": "stream",
       "stream": "stdout",
       "text": [
        "There are 43 null values for age_test\n"
       ]
      }
     ],
     "prompt_number": 404
    },
    {
     "cell_type": "markdown",
     "metadata": {},
     "source": [
      "Finally, we dropped unwanted columns and added a domain identification column for merging:"
     ]
    },
    {
     "cell_type": "code",
     "collapsed": false,
     "input": [
      "receptive = receptive[[\"study_id\", \"score\", \"test_type\", \"school\", \"age_test\"]]\n",
      "receptive[\"domain\"] = \"Receptive Vocabulary\"\n",
      "receptive.head()"
     ],
     "language": "python",
     "metadata": {},
     "outputs": [
      {
       "metadata": {},
       "output_type": "pyout",
       "prompt_number": 405,
       "text": [
        "          study_id  score test_type school  age_test                domain\n",
        "2   0101-2003-0101     90      PPVT   0101        80  Receptive Vocabulary\n",
        "5   0101-2003-0101    101    ROWPVT   0101       113  Receptive Vocabulary\n",
        "9   0101-2003-0102     55      PPVT   0101        44  Receptive Vocabulary\n",
        "10  0101-2003-0102     80      PPVT   0101        54  Receptive Vocabulary\n",
        "11  0101-2003-0102    101      PPVT   0101        68  Receptive Vocabulary"
       ]
      }
     ],
     "prompt_number": 405
    },
    {
     "cell_type": "markdown",
     "metadata": {},
     "source": [
      "## Merge datasets\n",
      "\n",
      "The four datasets were mereged into a single table. First, we concatenate the test scores data:"
     ]
    },
    {
     "cell_type": "code",
     "collapsed": false,
     "input": [
      "test_scores = pd.concat([articulation, expressive, receptive, language])"
     ],
     "language": "python",
     "metadata": {},
     "outputs": [],
     "prompt_number": 406
    },
    {
     "cell_type": "markdown",
     "metadata": {},
     "source": [
      "Then we perform a merge between the demographic data and the test scores data:"
     ]
    },
    {
     "cell_type": "code",
     "collapsed": false,
     "input": [
      "test_scores"
     ],
     "language": "python",
     "metadata": {},
     "outputs": [
      {
       "metadata": {},
       "output_type": "pyout",
       "prompt_number": 407,
       "text": [
        "<class 'pandas.core.frame.DataFrame'>\n",
        "Int64Index: 18701 entries, 1 to 8473\n",
        "Data columns (total 7 columns):\n",
        "age_test     18633  non-null values\n",
        "domain       18701  non-null values\n",
        "school       18701  non-null values\n",
        "score        18701  non-null values\n",
        "study_id     18701  non-null values\n",
        "test_name    7445  non-null values\n",
        "test_type    18701  non-null values\n",
        "dtypes: object(7)"
       ]
      }
     ],
     "prompt_number": 407
    },
    {
     "cell_type": "code",
     "collapsed": false,
     "input": [
      "lsl_dr = pd.merge(bimodal_bilateral, test_scores, on=\"study_id\")\n",
      "# lsl_dr = lsl_dr[lsl_dr.score.notnull() & lsl_dr.age.notnull() & \n",
      "#                 lsl_dr.age_test.notnull() & lsl_dr.score.notnull()]"
     ],
     "language": "python",
     "metadata": {},
     "outputs": [],
     "prompt_number": 408
    },
    {
     "cell_type": "markdown",
     "metadata": {},
     "source": [
      "Drop students aged 7 or older"
     ]
    },
    {
     "cell_type": "code",
     "collapsed": false,
     "input": [
      "# lsl_dr = lsl_dr[lsl_dr.age/12. < 7]"
     ],
     "language": "python",
     "metadata": {},
     "outputs": [],
     "prompt_number": 409
    },
    {
     "cell_type": "code",
     "collapsed": false,
     "input": [
      "lsl_dr.score = lsl_dr.score.astype(float)"
     ],
     "language": "python",
     "metadata": {},
     "outputs": [],
     "prompt_number": 410
    },
    {
     "cell_type": "code",
     "collapsed": false,
     "input": [
      "lsl_dr.shape"
     ],
     "language": "python",
     "metadata": {},
     "outputs": [
      {
       "metadata": {},
       "output_type": "pyout",
       "prompt_number": 411,
       "text": [
        "(21665, 54)"
       ]
      }
     ],
     "prompt_number": 411
    },
    {
     "cell_type": "code",
     "collapsed": false,
     "input": [
      "lsl_dr.hist(column='age', by=lsl_dr.type)"
     ],
     "language": "python",
     "metadata": {},
     "outputs": [
      {
       "metadata": {},
       "output_type": "pyout",
       "prompt_number": 412,
       "text": [
        "array([<matplotlib.axes._subplots.AxesSubplot object at 0x106aaab90>,\n",
        "       <matplotlib.axes._subplots.AxesSubplot object at 0x106ac5190>], dtype=object)"
       ]
      },
      {
       "metadata": {},
       "output_type": "display_data",
       "png": "[encoded data removed]",
       "text": [
        "<matplotlib.figure.Figure at 0x107b50790>"
       ]
      }
     ],
     "prompt_number": 412
    },
    {
     "cell_type": "code",
     "collapsed": false,
     "input": [
      "def score_summary(domain, bimodal=False):\n",
      "    subset = lsl_dr[(lsl_dr.domain==domain) & (lsl_dr.bimodal==bimodal)]\n",
      "    subset['age_test'] = (subset.age_test/12).dropna().astype(int)\n",
      "    subset.age_test[subset.age_test > 11] = 11\n",
      "    subset = subset[subset.age_test>1]\n",
      "    byage = subset.groupby('age_test')\n",
      "    n = byage.study_id.count()\n",
      "    mean = byage.score.mean()\n",
      "    sd = byage.score.std()\n",
      "    min = byage.score.min()\n",
      "    max = byage.score.max()\n",
      "    summary = pd.DataFrame({'Sample Size':n, 'Mean':mean, \n",
      "    'SD':sd, 'Min':min, 'Max':max})\n",
      "    return summary[['Sample Size','Mean','SD','Min','Max']]"
     ],
     "language": "python",
     "metadata": {},
     "outputs": [],
     "prompt_number": 413
    },
    {
     "cell_type": "code",
     "collapsed": false,
     "input": [
      "receptive_summary = pd.concat([score_summary(\"Receptive Vocabulary\", bimodal=True), \n",
      "                               score_summary(\"Receptive Vocabulary\", bimodal=False)], keys=['bimodal','bilateral'])\n",
      "receptive_summary"
     ],
     "language": "python",
     "metadata": {},
     "outputs": [
      {
       "metadata": {},
       "output_type": "pyout",
       "prompt_number": 414,
       "text": [
        "                    Sample Size       Mean         SD  Min  Max\n",
        "          age_test                                             \n",
        "bimodal   2                  45  88.266667  17.989138   50  128\n",
        "          3                 234  81.286325  18.605207   40  140\n",
        "          4                 283  82.756184  18.603761   31  132\n",
        "          5                 260  81.196154  15.410095   40  114\n",
        "          6                 174  79.787356  14.538196   40  138\n",
        "          7                 111  76.189189  12.645886   41  103\n",
        "          8                  75  70.333333  18.980312   20  104\n",
        "          9                  59  74.610169  16.658866   29  103\n",
        "          10                 64  73.281250  14.306696   41  104\n",
        "          11                101  66.198020  19.178123   38  126\n",
        "bilateral 2                 148  90.554054  18.685468   40  129\n",
        "          3                 562  86.108541  19.353931   36  141\n",
        "          4                 766  85.988251  18.777434   31  139\n",
        "          5                 591  83.174281  15.582859   40  123\n",
        "          6                 367  82.678474  14.565666   40  118\n",
        "          7                 320  80.971875  15.110331   42  110\n",
        "          8                 203  72.763547  14.471319   20  112\n",
        "          9                 150  72.306667  18.321494   25  160\n",
        "          10                 89  69.516854  15.403005   33  108\n",
        "          11                168  73.208333  19.380172   20  128"
       ]
      }
     ],
     "prompt_number": 414
    },
    {
     "cell_type": "code",
     "collapsed": false,
     "input": [
      "def plot_summary(summary_data, var='Sample Size', color='seagreen'):\n",
      "    fig, axes = plt.subplots(nrows=1, ncols=2)\n",
      "    var = 'Sample Size'\n",
      "    for m,mode in enumerate(['bimodal', 'bilateral']):\n",
      "        summary_data.ix[mode][var].plot(ax=axes[m], kind='bar', grid=False, color=color)\n",
      "        axes[m].set_title(mode)\n",
      "        for i,x in enumerate(summary_data.ix[mode][var]):\n",
      "            axes[m].annotate('%i' % x, (i+0.5, x+1), va=\"bottom\", ha=\"center\")"
     ],
     "language": "python",
     "metadata": {},
     "outputs": [],
     "prompt_number": 415
    },
    {
     "cell_type": "code",
     "collapsed": false,
     "input": [
      "plot_summary(receptive_summary)"
     ],
     "language": "python",
     "metadata": {},
     "outputs": [
      {
       "metadata": {},
       "output_type": "display_data",
       "png": "[encoded data removed]",
       "text": [
        "<matplotlib.figure.Figure at 0x107358190>"
       ]
      }
     ],
     "prompt_number": 416
    },
    {
     "cell_type": "code",
     "collapsed": false,
     "input": [
      "expressive_summary = pd.concat([score_summary(\"Expressive Vocabulary\", bimodal=True), \n",
      "                               score_summary(\"Expressive Vocabulary\", bimodal=False)], keys=['bimodal','bilateral'])\n",
      "expressive_summary"
     ],
     "language": "python",
     "metadata": {},
     "outputs": [
      {
       "metadata": {},
       "output_type": "pyout",
       "prompt_number": 417,
       "text": [
        "                    Sample Size       Mean         SD  Min  Max\n",
        "          age_test                                             \n",
        "bimodal   2                  54  87.722222  22.827835   55  128\n",
        "          3                 203  83.413793  21.969290   50  145\n",
        "          4                 278  83.543165  21.740759   20  140\n",
        "          5                 242  82.388430  18.924340   22  130\n",
        "          6                 180  77.738889  15.698046   40  118\n",
        "          7                 105  76.952381  13.981018   38  107\n",
        "          8                  72  74.722222  18.828524   34  115\n",
        "          9                  40  77.575000  16.557418   46  113\n",
        "          10                 63  77.984127  15.540262   52  100\n",
        "          11                109  77.192661  16.150036   56  130\n",
        "bilateral 2                 148  91.628378  25.968133   23  141\n",
        "          3                 532  86.471805  22.764105   37  145\n",
        "          4                 761  85.906702  20.806451   28  146\n",
        "          5                 577  83.915078  16.526643   40  130\n",
        "          6                 391  83.992327  15.816980   40  122\n",
        "          7                 331  84.501511  16.434881   49  130\n",
        "          8                 185  79.070270  14.456097   34  113\n",
        "          9                 133  78.729323  17.570692   36  145\n",
        "          10                104  76.682692  11.240758   55   99\n",
        "          11                166  81.542169  18.736321   18  140"
       ]
      }
     ],
     "prompt_number": 417
    },
    {
     "cell_type": "code",
     "collapsed": false,
     "input": [
      "plot_summary(expressive_summary)"
     ],
     "language": "python",
     "metadata": {},
     "outputs": [
      {
       "metadata": {},
       "output_type": "display_data",
       "png": "[encoded data removed]",
       "text": [
        "<matplotlib.figure.Figure at 0x106ab5e50>"
       ]
      }
     ],
     "prompt_number": 418
    },
    {
     "cell_type": "code",
     "collapsed": false,
     "input": [
      "articulation_summary = pd.concat([score_summary(\"Articulation\", bimodal=True), \n",
      "                               score_summary(\"Articulation\", bimodal=False)], keys=['bimodal','bilateral'])\n",
      "articulation_summary"
     ],
     "language": "python",
     "metadata": {},
     "outputs": [
      {
       "metadata": {},
       "output_type": "pyout",
       "prompt_number": 419,
       "text": [
        "                    Sample Size       Mean         SD  Min  Max\n",
        "          age_test                                             \n",
        "bimodal   2                  36  83.472222  13.344846   52  105\n",
        "          3                 166  79.006024  14.948598   42  117\n",
        "          4                 248  78.334677  20.531325   39  119\n",
        "          5                 227  77.409692  18.977502   40  114\n",
        "          6                 172  79.046512  18.056058   39  109\n",
        "          7                  97  74.979381  19.016977   39  108\n",
        "          8                  48  75.979167  18.721349   40  106\n",
        "          9                  33  82.484848  13.836368   40  106\n",
        "          10                 36  81.166667  11.177784   40  100\n",
        "          11                 78  79.179487  13.150225   55  105\n",
        "bilateral 2                 115  79.556522  13.434827   53  110\n",
        "          3                 419  76.257757  18.323395   40  120\n",
        "          4                 623  76.744783  19.322963   40  118\n",
        "          5                 530  77.105660  20.179819   39  113\n",
        "          6                 340  76.297059  20.824948   39  110\n",
        "          7                 301  80.039867  21.168650   35  108\n",
        "          8                 110  70.527273  21.550329   40  106\n",
        "          9                  69  79.681159  22.259494   40  106\n",
        "          10                 60  73.816667  19.735962   40  100\n",
        "          11                117  76.897436  15.678002   40  105"
       ]
      }
     ],
     "prompt_number": 419
    },
    {
     "cell_type": "code",
     "collapsed": false,
     "input": [
      "plot_summary(articulation_summary)"
     ],
     "language": "python",
     "metadata": {},
     "outputs": [
      {
       "metadata": {},
       "output_type": "display_data",
       "png": "[encoded data removed]",
       "text": [
        "<matplotlib.figure.Figure at 0x107b52c10>"
       ]
      }
     ],
     "prompt_number": 420
    },
    {
     "cell_type": "code",
     "collapsed": false,
     "input": [
      "language_summary = pd.concat([score_summary(\"Language\", bimodal=True), \n",
      "                               score_summary(\"Language\", bimodal=False)], keys=['bimodal','bilateral'])\n",
      "language_summary"
     ],
     "language": "python",
     "metadata": {},
     "outputs": [
      {
       "metadata": {},
       "output_type": "pyout",
       "prompt_number": 421,
       "text": [
        "                    Sample Size       Mean         SD  Min  Max\n",
        "          age_test                                             \n",
        "bimodal   2                 156  82.570513  18.782323   52  150\n",
        "          3                 406  77.394089  17.802548   50  132\n",
        "          4                 463  79.084233  18.421573   45  133\n",
        "          5                 382  77.583770  18.409516   45  124\n",
        "          6                 230  71.717391  17.375211   45  115\n",
        "          7                 174  64.132184  15.609757   40   98\n",
        "          8                  85  61.835294  17.321090   45  115\n",
        "          9                  34  67.294118  20.362665   40  106\n",
        "          10                 16  79.562500  13.598866   58   98\n",
        "          11                 28  93.821429  17.003384   71  130\n",
        "bilateral 2                 723  78.834025  18.514952   50  150\n",
        "          3                1203  81.494597  20.000056   50  145\n",
        "          4                1278  78.053208  19.418532   48  141\n",
        "          5                1056  75.398674  16.825989   45  129\n",
        "          6                 680  71.442647  16.584135   44  115\n",
        "          7                 543  70.130755  19.774733   40  118\n",
        "          8                 289  67.674740  19.480174   40  103\n",
        "          9                 126  75.007937  20.745504   40  106\n",
        "          10                 80  70.512500  22.265938   40  110\n",
        "          11                 24  75.875000  25.279847   40  108"
       ]
      }
     ],
     "prompt_number": 421
    },
    {
     "cell_type": "code",
     "collapsed": false,
     "input": [
      "for t in language.test_type.value_counts().index:\n",
      "    lsl_dr[lsl_dr.test_type==t].boxplot(column='score', by='bimodal')\n",
      "    xlabel(t)"
     ],
     "language": "python",
     "metadata": {},
     "outputs": [
      {
       "metadata": {},
       "output_type": "display_data",
       "png": "[encoded data removed]",
       "text": [
        "<matplotlib.figure.Figure at 0x107351890>"
       ]
      },
      {
       "metadata": {},
       "output_type": "display_data",
       "png": "[encoded data removed]",
       "text": [
        "<matplotlib.figure.Figure at 0x107351210>"
       ]
      }
     ],
     "prompt_number": 422
    },
    {
     "cell_type": "markdown",
     "metadata": {},
     "source": [
      "## Descriptive Statistics"
     ]
    },
    {
     "cell_type": "code",
     "collapsed": false,
     "input": [
      "unique_students = lsl_dr.drop_duplicates(cols='study_id')\n",
      "unique_students"
     ],
     "language": "python",
     "metadata": {},
     "outputs": [
      {
       "metadata": {},
       "output_type": "pyout",
       "prompt_number": 423,
       "text": [
        "<class 'pandas.core.frame.DataFrame'>\n",
        "Int64Index: 983 entries, 0 to 21659\n",
        "Data columns (total 54 columns):\n",
        "study_id               983  non-null values\n",
        "redcap_event_name      983  non-null values\n",
        "hl                     830  non-null values\n",
        "male                   702  non-null values\n",
        "prim_lang              650  non-null values\n",
        "sib                    653  non-null values\n",
        "_mother_ed             597  non-null values\n",
        "father_ed              595  non-null values\n",
        "premature_age          642  non-null values\n",
        "onset_1                318  non-null values\n",
        "age_amp                308  non-null values\n",
        "age_int                276  non-null values\n",
        "age                    698  non-null values\n",
        "etiology               700  non-null values\n",
        "etiology_2             366  non-null values\n",
        "ae                     625  non-null values\n",
        "ad_250                 338  non-null values\n",
        "ad_500                 427  non-null values\n",
        "degree_hl_ad           908  non-null values\n",
        "type_hl_ad             899  non-null values\n",
        "tech_ad                983  non-null values\n",
        "age_ci                 350  non-null values\n",
        "as_250                 339  non-null values\n",
        "as_500                 430  non-null values\n",
        "degree_hl_as           905  non-null values\n",
        "type_hl_as             900  non-null values\n",
        "tech_as                983  non-null values\n",
        "age_ci_2               331  non-null values\n",
        "time                   789  non-null values\n",
        "fam_age                550  non-null values\n",
        "family_inv             554  non-null values\n",
        "demo_ses               34  non-null values\n",
        "school_lunch           48  non-null values\n",
        "medicaid               21  non-null values\n",
        "non_english            650  non-null values\n",
        "mother_ed              405  non-null values\n",
        "secondary_diagnosis    983  non-null values\n",
        "premature_weeks        496  non-null values\n",
        "tech_right             983  non-null values\n",
        "tech_left              983  non-null values\n",
        "degree_hl              901  non-null values\n",
        "baha                   983  non-null values\n",
        "hearing_aid            983  non-null values\n",
        "cochlear               983  non-null values\n",
        "bilateral              983  non-null values\n",
        "bimodal                983  non-null values\n",
        "tech                   983  non-null values\n",
        "type                   983  non-null values\n",
        "age_test               978  non-null values\n",
        "domain                 983  non-null values\n",
        "school                 983  non-null values\n",
        "score                  983  non-null values\n",
        "test_name              108  non-null values\n",
        "test_type              983  non-null values\n",
        "dtypes: bool(3), float64(35), int64(1), object(15)"
       ]
      }
     ],
     "prompt_number": 423
    },
    {
     "cell_type": "code",
     "collapsed": false,
     "input": [
      "len(unique_students)"
     ],
     "language": "python",
     "metadata": {},
     "outputs": [
      {
       "metadata": {},
       "output_type": "pyout",
       "prompt_number": 424,
       "text": [
        "983"
       ]
      }
     ],
     "prompt_number": 424
    },
    {
     "cell_type": "markdown",
     "metadata": {},
     "source": [
      "Gender distribution (proportion male):"
     ]
    },
    {
     "cell_type": "code",
     "collapsed": false,
     "input": [
      "unique_students.male.dropna().mean()"
     ],
     "language": "python",
     "metadata": {},
     "outputs": [
      {
       "metadata": {},
       "output_type": "pyout",
       "prompt_number": 425,
       "text": [
        "0.50142450142450146"
       ]
      }
     ],
     "prompt_number": 425
    },
    {
     "cell_type": "markdown",
     "metadata": {},
     "source": [
      "Distribution of age at implantation in years"
     ]
    },
    {
     "cell_type": "code",
     "collapsed": false,
     "input": [
      "unique_students.age_ci.notnull().sum()"
     ],
     "language": "python",
     "metadata": {},
     "outputs": [
      {
       "metadata": {},
       "output_type": "pyout",
       "prompt_number": 426,
       "text": [
        "350"
       ]
      }
     ],
     "prompt_number": 426
    },
    {
     "cell_type": "code",
     "collapsed": false,
     "input": [
      "(unique_students.age_ci/12.).hist(bins=14)"
     ],
     "language": "python",
     "metadata": {},
     "outputs": [
      {
       "metadata": {},
       "output_type": "pyout",
       "prompt_number": 427,
       "text": [
        "<matplotlib.axes._subplots.AxesSubplot at 0x1083d3d90>"
       ]
      },
      {
       "metadata": {},
       "output_type": "display_data",
       "png": "[encoded data removed]",
       "text": [
        "<matplotlib.figure.Figure at 0x105348150>"
       ]
      }
     ],
     "prompt_number": 427
    },
    {
     "cell_type": "markdown",
     "metadata": {},
     "source": [
      "Distribution of age in years"
     ]
    },
    {
     "cell_type": "code",
     "collapsed": false,
     "input": [
      "(unique_students.age/12.).hist(bins=15)"
     ],
     "language": "python",
     "metadata": {},
     "outputs": [
      {
       "metadata": {},
       "output_type": "pyout",
       "prompt_number": 428,
       "text": [
        "<matplotlib.axes._subplots.AxesSubplot at 0x108892d10>"
       ]
      },
      {
       "metadata": {},
       "output_type": "display_data",
       "png": "[encoded data removed]",
       "text": [
        "<matplotlib.figure.Figure at 0x10a6fab90>"
       ]
      }
     ],
     "prompt_number": 428
    },
    {
     "cell_type": "markdown",
     "metadata": {},
     "source": [
      "Number of bimodal/bilaterals"
     ]
    },
    {
     "cell_type": "code",
     "collapsed": false,
     "input": [
      "(unique_students.bimodal==True).sum()"
     ],
     "language": "python",
     "metadata": {},
     "outputs": [
      {
       "metadata": {},
       "output_type": "pyout",
       "prompt_number": 443,
       "text": [
        "343"
       ]
      }
     ],
     "prompt_number": 443
    },
    {
     "cell_type": "code",
     "collapsed": false,
     "input": [
      "(unique_students.bilateral==True).sum()"
     ],
     "language": "python",
     "metadata": {},
     "outputs": [
      {
       "metadata": {},
       "output_type": "pyout",
       "prompt_number": 444,
       "text": [
        "640"
       ]
      }
     ],
     "prompt_number": 444
    },
    {
     "cell_type": "markdown",
     "metadata": {},
     "source": [
      "Mean age at CI for bimodal and bilateral (`True`=bimodal, `False`=bilateral)"
     ]
    },
    {
     "cell_type": "code",
     "collapsed": false,
     "input": [
      "unique_students.groupby('bimodal')['age_ci'].describe()"
     ],
     "language": "python",
     "metadata": {},
     "outputs": [
      {
       "metadata": {},
       "output_type": "pyout",
       "prompt_number": 445,
       "text": [
        "bimodal       \n",
        "False    count    265.000000\n",
        "         mean      29.331094\n",
        "         std       26.279643\n",
        "         min        0.740000\n",
        "         25%       13.000000\n",
        "         50%       22.000000\n",
        "         75%       34.000000\n",
        "         max      212.000000\n",
        "True     count     85.000000\n",
        "         mean      39.211765\n",
        "         std       26.619942\n",
        "         min       11.000000\n",
        "         25%       23.000000\n",
        "         50%       34.000000\n",
        "         75%       49.000000\n",
        "         max      177.000000\n",
        "dtype: float64"
       ]
      }
     ],
     "prompt_number": 445
    },
    {
     "cell_type": "code",
     "collapsed": false,
     "input": [
      "unique_students.groupby('bimodal')['age'].describe()"
     ],
     "language": "python",
     "metadata": {},
     "outputs": [
      {
       "metadata": {},
       "output_type": "pyout",
       "prompt_number": 430,
       "text": [
        "bimodal       \n",
        "False    count    482.000000\n",
        "         mean      35.000000\n",
        "         std       27.221353\n",
        "         min        1.000000\n",
        "         25%       18.000000\n",
        "         50%       31.500000\n",
        "         75%       44.750000\n",
        "         max      218.000000\n",
        "True     count    216.000000\n",
        "         mean      38.379630\n",
        "         std       28.873652\n",
        "         min        1.000000\n",
        "         25%       20.750000\n",
        "         50%       33.500000\n",
        "         75%       48.000000\n",
        "         max      181.000000\n",
        "dtype: float64"
       ]
      }
     ],
     "prompt_number": 430
    },
    {
     "cell_type": "markdown",
     "metadata": {},
     "source": [
      "Distribution of scores by domain"
     ]
    },
    {
     "cell_type": "code",
     "collapsed": false,
     "input": [
      "lsl_dr.groupby('domain')['score'].describe()"
     ],
     "language": "python",
     "metadata": {},
     "outputs": [
      {
       "metadata": {},
       "output_type": "pyout",
       "prompt_number": 431,
       "text": [
        "domain                      \n",
        "Articulation           count    3828.000000\n",
        "                       mean       77.368077\n",
        "                       std        19.128315\n",
        "                       min        35.000000\n",
        "                       25%        64.000000\n",
        "                       50%        78.000000\n",
        "                       75%        93.000000\n",
        "                       max       120.000000\n",
        "Expressive Vocabulary  count    4694.000000\n",
        "                       mean       83.387942\n",
        "                       std        19.307225\n",
        "                       min        18.000000\n",
        "                       25%        71.000000\n",
        "                       50%        83.000000\n",
        "                       75%        96.000000\n",
        "                       max       146.000000\n",
        "Language               count    8284.000000\n",
        "                       mean       76.452438\n",
        "                       std        19.099150\n",
        "                       min        40.000000\n",
        "                       25%        62.000000\n",
        "                       50%        75.000000\n",
        "                       75%        89.000000\n",
        "                       max       150.000000\n",
        "Receptive Vocabulary   count    4859.000000\n",
        "                       mean       81.199835\n",
        "                       std        17.975653\n",
        "                       min        20.000000\n",
        "                       25%        70.000000\n",
        "                       50%        80.000000\n",
        "                       75%        92.000000\n",
        "                       max       160.000000\n",
        "dtype: float64"
       ]
      }
     ],
     "prompt_number": 431
    },
    {
     "cell_type": "code",
     "collapsed": false,
     "input": [
      "fig, axes = plt.subplots(1, 4, sharex=True, sharey=True, figsize=(10,3))\n",
      "for i,d in enumerate(lsl_dr.domain.unique()):\n",
      "    lsl_dr.score[lsl_dr.domain==d].hist(ax=axes[i], bins=25, grid=False)\n",
      "    axes[i].set_xlabel(d)\n",
      "plt.tight_layout()"
     ],
     "language": "python",
     "metadata": {},
     "outputs": [
      {
       "metadata": {},
       "output_type": "display_data",
       "png": "[encoded data removed]",
       "text": [
        "<matplotlib.figure.Figure at 0x1083b4f10>"
       ]
      }
     ],
     "prompt_number": 432
    },
    {
     "cell_type": "code",
     "collapsed": false,
     "input": [
      "unique_students.groupby(['bimodal', 'domain'])['score'].describe()"
     ],
     "language": "python",
     "metadata": {},
     "outputs": [
      {
       "metadata": {},
       "output_type": "pyout",
       "prompt_number": 433,
       "text": [
        "bimodal  domain                      \n",
        "False    Articulation           count    456.000000\n",
        "                                mean      74.936404\n",
        "                                std       19.965638\n",
        "                                min       35.000000\n",
        "                                25%       61.000000\n",
        "                                50%       76.000000\n",
        "                                75%       89.000000\n",
        "                                max      120.000000\n",
        "         Expressive Vocabulary  count     95.000000\n",
        "                                mean      84.705263\n",
        "                                std       25.611614\n",
        "                                min       23.000000\n",
        "                                25%       66.500000\n",
        "                                50%       82.000000\n",
        "                                75%      101.500000\n",
        "                                max      145.000000\n",
        "         Language               count     78.000000\n",
        "                                mean      73.000000\n",
        "                                std       19.741182\n",
        "                                min       40.000000\n",
        "                                25%       54.250000\n",
        "                                50%       71.000000\n",
        "                                75%       86.000000\n",
        "                                max      124.000000\n",
        "         Receptive Vocabulary   count     11.000000\n",
        "                                mean      69.363636\n",
        "                                std       21.978502\n",
        "                                min       40.000000\n",
        "                                25%       55.000000\n",
        "                                50%       75.000000\n",
        "                                75%       81.000000\n",
        "                                max      107.000000\n",
        "True     Articulation           count    262.000000\n",
        "                                mean      74.809160\n",
        "                                std       18.345812\n",
        "                                min       39.000000\n",
        "                                25%       62.000000\n",
        "                                50%       75.000000\n",
        "                                75%       88.000000\n",
        "                                max      119.000000\n",
        "         Expressive Vocabulary  count     49.000000\n",
        "                                mean      75.632653\n",
        "                                std       20.767256\n",
        "                                min       38.000000\n",
        "                                25%       57.000000\n",
        "                                50%       76.000000\n",
        "                                75%       93.000000\n",
        "                                max      115.000000\n",
        "         Language               count     30.000000\n",
        "                                mean      72.933333\n",
        "                                std       21.162643\n",
        "                                min       47.000000\n",
        "                                25%       57.000000\n",
        "                                50%       67.500000\n",
        "                                75%       81.000000\n",
        "                                max      130.000000\n",
        "         Receptive Vocabulary   count      2.000000\n",
        "                                mean      70.500000\n",
        "                                std       27.577164\n",
        "                                min       51.000000\n",
        "                                25%       60.750000\n",
        "                                50%       70.500000\n",
        "                                75%       80.250000\n",
        "                                max       90.000000\n",
        "Length: 64, dtype: float64"
       ]
      }
     ],
     "prompt_number": 433
    },
    {
     "cell_type": "markdown",
     "metadata": {},
     "source": [
      "Mean average of 250 & 500 Hz for bilateral (CI ears)"
     ]
    },
    {
     "cell_type": "code",
     "collapsed": false,
     "input": [
      "unique_students[(unique_students.bilateral==True) & \n",
      "                (unique_students.tech_left==3)][['ad_250', 'as_250', 'ad_500', 'as_500']].describe()"
     ],
     "language": "python",
     "metadata": {},
     "outputs": [
      {
       "metadata": {},
       "output_type": "pyout",
       "prompt_number": 456,
       "text": [
        "           ad_250      as_250      ad_500      as_500\n",
        "count  178.000000  179.000000  232.000000  241.000000\n",
        "mean    93.511236   92.150838   96.271552   96.348548\n",
        "std     29.389309   29.260255   26.847323   25.995731\n",
        "min     10.000000    0.000000   10.000000   20.000000\n",
        "25%     80.000000   80.000000   90.000000   90.000000\n",
        "50%    100.000000   95.000000  100.000000  100.000000\n",
        "75%    120.000000  120.000000  120.000000  120.000000\n",
        "max    120.000000  120.000000  120.000000  120.000000"
       ]
      }
     ],
     "prompt_number": 456
    },
    {
     "cell_type": "markdown",
     "metadata": {},
     "source": [
      "Mean average of 250 & 500 Hz for bimodal (CI ear and non-CI ear)"
     ]
    },
    {
     "cell_type": "code",
     "collapsed": false,
     "input": [
      "# Left ear for CI left\n",
      "unique_students[(unique_students.bimodal==True) &\n",
      "                (unique_students.tech_left==3)][['as_250', 'as_500']].describe()"
     ],
     "language": "python",
     "metadata": {},
     "outputs": [
      {
       "metadata": {},
       "output_type": "pyout",
       "prompt_number": 458,
       "text": [
        "           as_250      as_500\n",
        "count   52.000000   66.000000\n",
        "mean    95.576923   99.166667\n",
        "std     24.746833   21.989216\n",
        "min     15.000000   20.000000\n",
        "25%     90.000000   91.250000\n",
        "50%    100.000000  105.000000\n",
        "75%    120.000000  120.000000\n",
        "max    120.000000  120.000000"
       ]
      }
     ],
     "prompt_number": 458
    },
    {
     "cell_type": "code",
     "collapsed": false,
     "input": [
      "# Right ear for CI left\n",
      "unique_students[(unique_students.bimodal==True) &\n",
      "                (unique_students.tech_left==3)][['ad_250', 'ad_500']].describe()"
     ],
     "language": "python",
     "metadata": {},
     "outputs": [
      {
       "metadata": {},
       "output_type": "pyout",
       "prompt_number": 459,
       "text": [
        "           ad_250      ad_500\n",
        "count   76.000000   89.000000\n",
        "mean    71.513158   75.505618\n",
        "std     23.565791   21.038992\n",
        "min      5.000000   20.000000\n",
        "25%     55.000000   60.000000\n",
        "50%     75.000000   80.000000\n",
        "75%     90.000000   90.000000\n",
        "max    120.000000  120.000000"
       ]
      }
     ],
     "prompt_number": 459
    },
    {
     "cell_type": "code",
     "collapsed": false,
     "input": [
      "# Right ear for CI right\n",
      "unique_students[(unique_students.bimodal==True) &\n",
      "                (unique_students.tech_right==3)][['ad_250', 'ad_500']].describe()"
     ],
     "language": "python",
     "metadata": {},
     "outputs": [
      {
       "metadata": {},
       "output_type": "pyout",
       "prompt_number": 460,
       "text": [
        "           ad_250      ad_500\n",
        "count   84.000000  106.000000\n",
        "mean    92.380952   98.584906\n",
        "std     26.992594   24.346259\n",
        "min     20.000000   15.000000\n",
        "25%     80.000000   90.000000\n",
        "50%    100.000000  105.000000\n",
        "75%    120.000000  120.000000\n",
        "max    120.000000  120.000000"
       ]
      }
     ],
     "prompt_number": 460
    },
    {
     "cell_type": "code",
     "collapsed": false,
     "input": [
      "# Left ear for CI right\n",
      "unique_students[(unique_students.bimodal==True) &\n",
      "                (unique_students.tech_right==3)][['as_250', 'as_500']].describe()"
     ],
     "language": "python",
     "metadata": {},
     "outputs": [
      {
       "metadata": {},
       "output_type": "pyout",
       "prompt_number": 461,
       "text": [
        "           as_250      as_500\n",
        "count  108.000000  123.000000\n",
        "mean    74.814815   79.593496\n",
        "std     21.637691   23.640004\n",
        "min     25.000000   20.000000\n",
        "25%     60.000000   65.000000\n",
        "50%     75.000000   80.000000\n",
        "75%     90.000000   95.000000\n",
        "max    120.000000  120.000000"
       ]
      }
     ],
     "prompt_number": 461
    }
   ],
   "metadata": {}
  }
 ]
}